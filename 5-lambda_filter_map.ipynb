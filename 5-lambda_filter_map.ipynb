{
 "cells": [
  {
   "cell_type": "markdown",
   "metadata": {},
   "source": [
    "* lambda\n",
    "* filter \n",
    "* map"
   ]
  },
  {
   "cell_type": "markdown",
   "metadata": {},
   "source": [
    "**lambda arguments: expression**"
   ]
  },
  {
   "cell_type": "markdown",
   "metadata": {},
   "source": [
    "Sytntax olarak sadece bir ifade (expression) ve birden fazla parametre(arguments) olabilir."
   ]
  },
  {
   "cell_type": "code",
   "execution_count": 3,
   "metadata": {},
   "outputs": [
    {
     "name": "stdout",
     "output_type": "stream",
     "text": [
      "30\n"
     ]
    }
   ],
   "source": [
    "double = lambda x: x * 2\n",
    "\n",
    "print(double(15))"
   ]
  },
  {
   "cell_type": "code",
   "execution_count": 1,
   "metadata": {},
   "outputs": [
    {
     "name": "stdout",
     "output_type": "stream",
     "text": [
      "30\n"
     ]
    }
   ],
   "source": [
    "def double(x):\n",
    "    return x*2\n",
    "\n",
    "print(double(15))"
   ]
  },
  {
   "cell_type": "code",
   "execution_count": 2,
   "metadata": {},
   "outputs": [
    {
     "name": "stdout",
     "output_type": "stream",
     "text": [
      "4\n",
      "30\n"
     ]
    }
   ],
   "source": [
    "# default değer verme\n",
    "\n",
    "double = lambda x = 2: x * 2\n",
    "\n",
    "print(double())\n",
    "print(double(15))"
   ]
  },
  {
   "cell_type": "code",
   "execution_count": 4,
   "metadata": {},
   "outputs": [
    {
     "name": "stdout",
     "output_type": "stream",
     "text": [
      "7\n"
     ]
    }
   ],
   "source": [
    "Min = lambda x, y:x if x < y else y # x ve y değerleri parametre x,y: yazdık o yüzden.\n",
    "\n",
    "print(Min(9, 7))"
   ]
  },
  {
   "cell_type": "code",
   "execution_count": 5,
   "metadata": {},
   "outputs": [
    {
     "name": "stdout",
     "output_type": "stream",
     "text": [
      "[[1, 2, 3, 6, 8], [1, 2, 4, 6, 9], [0, 1, 3, 5, 7]]\n"
     ]
    }
   ],
   "source": [
    "# iç içe yer alan lisyeleri lambda fonk. ile sıralayalım.\n",
    "\n",
    "my_list = [[2, 6, 8, 3, 1], [2, 6, 4, 1, 9], [0, 7, 3, 5, 1]]\n",
    "\n",
    "sortedList = lambda use_list:  (sorted(i) for i in use_list)\n",
    "\n",
    "print(list(sortedList(my_list)))"
   ]
  },
  {
   "cell_type": "code",
   "execution_count": 7,
   "metadata": {},
   "outputs": [
    {
     "name": "stdout",
     "output_type": "stream",
     "text": [
      "[[1, 2, 3, 6, 8], [1, 2, 4, 6, 9], [0, 1, 3, 5, 7]]\n"
     ]
    }
   ],
   "source": [
    "# aşağıdaki satırları yazmak yerine yukarıdaki sortedList = lambda use_list:  (sorted(i) for i in use_list) ile yazıldı.\n",
    "\n",
    "my_list = [[2, 6, 8, 3, 1], [2, 6, 4, 1, 9], [0, 7, 3, 5, 1]]\n",
    "\n",
    "def sortedList(liste):\n",
    "    for i, item in enumerate(my_list):\n",
    "        my_list[i] = sorted(item)\n",
    "        \n",
    "    return my_list\n",
    "\n",
    "print(sortedList(my_list))\n"
   ]
  },
  {
   "cell_type": "code",
   "execution_count": 9,
   "metadata": {},
   "outputs": [
    {
     "name": "stdout",
     "output_type": "stream",
     "text": [
      "[10, 70, 90, 40, 30]\n"
     ]
    }
   ],
   "source": [
    "multiplyList = lambda x: (i*10 for i in x)\n",
    "\n",
    "print(list(multiplyList([1, 7, 9, 4, 3])))"
   ]
  },
  {
   "cell_type": "markdown",
   "metadata": {},
   "source": [
    "**filter()** -> parametre olarak bir lambda yani isimsiz bir fonksiyon ve bir liste alır. Verilen ifadeye uygun elemanları işleme alır ve yeni bir liste döner."
   ]
  },
  {
   "cell_type": "code",
   "execution_count": 3,
   "metadata": {},
   "outputs": [
    {
     "name": "stdout",
     "output_type": "stream",
     "text": [
      "[1, 43, 5, 7, 77]\n"
     ]
    }
   ],
   "source": [
    "# liste içerisindeki tek sayıları alma\n",
    "\n",
    "my_list = [1, 2, 43, 5, 6, 7, 34, 0, 77]\n",
    "\n",
    "print(list(filter(lambda x: x % 2!=0, my_list))) # my_liste içinde gezinecek ve uygun olan değerleri alacak."
   ]
  },
  {
   "cell_type": "markdown",
   "metadata": {},
   "source": [
    "map() -> parametre olarak bir lambda yani isimsiz bir fonksiyon ve bir liste alır."
   ]
  },
  {
   "cell_type": "code",
   "execution_count": 4,
   "metadata": {},
   "outputs": [
    {
     "name": "stdout",
     "output_type": "stream",
     "text": [
      "[True, False, True, True, False, True, False, False, True]\n"
     ]
    }
   ],
   "source": [
    "# liste içerisindeki tek sayıları alma\n",
    "\n",
    "my_list = [1, 2, 43, 5, 6, 7, 34, 0, 77]\n",
    "\n",
    "print(list(map(lambda x: x % 2 !=0, my_list)))\n",
    "\n",
    "# çıktı da tek sayı olanları true ile, çift sayı olanları false ile döndü."
   ]
  },
  {
   "cell_type": "code",
   "execution_count": 6,
   "metadata": {},
   "outputs": [
    {
     "name": "stdout",
     "output_type": "stream",
     "text": [
      "[1, 4, 16, 25, 36, 49, 9, 0, 49]\n"
     ]
    }
   ],
   "source": [
    "# map ile her elemanın karesini alan kod bloğunu yazalım.\n",
    "\n",
    "my_list = [1, 2, 4, 5, 6, 7, 3, 0, 7]\n",
    "\n",
    "print(list(map(lambda x: x**2,  my_list))) # eğer bir sayı üzerinde işlem yaptırıyorsak o işlemin sonucunu veriyor."
   ]
  },
  {
   "cell_type": "code",
   "execution_count": 8,
   "metadata": {},
   "outputs": [
    {
     "name": "stdout",
     "output_type": "stream",
     "text": [
      "[6, 15, 27]\n"
     ]
    }
   ],
   "source": [
    "# map ile liste içerisindeki her listenin ilk elemanının 3 katını döndürelim\n",
    "\n",
    "my_list = [[2, 6, 8, 3, 1], [5, 6, 4, 1, 9], [9, 7, 3, 5, 1]]\n",
    "\n",
    "print(list(map(lambda x: x[0]*3, my_list)))\n"
   ]
  },
  {
   "cell_type": "code",
   "execution_count": 10,
   "metadata": {},
   "outputs": [
    {
     "name": "stdout",
     "output_type": "stream",
     "text": [
      "[2, 3, 5, 4]\n"
     ]
    }
   ],
   "source": [
    "# filter ile [20, 30, 15, 10, 13, 50, 40] liste içerisinde >= olanları bulup map ile yeni listedeki değerleri integer bölme ile 10 a bölelim, oluşan listeyi ekrana basalım\n",
    "\n",
    "print(list(map(lambda x: x // 10, filter(lambda x: x >=20, [20, 30, 15, 10, 13, 50, 40]))))"
   ]
  },
  {
   "cell_type": "code",
   "execution_count": 11,
   "metadata": {},
   "outputs": [
    {
     "name": "stdout",
     "output_type": "stream",
     "text": [
      "[34, 2]\n"
     ]
    }
   ],
   "source": [
    "# Listenin içerisinde yer alan integer tipindeki elemanları bulalım.\n",
    "\n",
    "my_list = [\"Büşra\", 34, 2, 89.6, True, 'a']\n",
    "\n",
    "print(list(filter(lambda x: type(x) == int, my_list)))\n",
    "\n"
   ]
  },
  {
   "cell_type": "code",
   "execution_count": 12,
   "metadata": {},
   "outputs": [
    {
     "name": "stdout",
     "output_type": "stream",
     "text": [
      "['BÜŞRA', 'CEYDA', 'CEREN', 'İLKAY', 'BUKET', 'AYŞE', 'NURCAN']\n"
     ]
    }
   ],
   "source": [
    "# Liste içerisindeki isimleri büyük harfe çevirelim\n",
    "\n",
    "my_list = [\"Büşra\", \"Ceyda\", \"Ceren\", \"İlkay\", \"Buket\", \"Ayşe\", \"Nurcan\"]\n",
    "\n",
    "print(list(map(lambda x: x.upper(), my_list)))"
   ]
  }
 ],
 "metadata": {
  "kernelspec": {
   "display_name": "Python 3.10.7 64-bit",
   "language": "python",
   "name": "python3"
  },
  "language_info": {
   "codemirror_mode": {
    "name": "ipython",
    "version": 3
   },
   "file_extension": ".py",
   "mimetype": "text/x-python",
   "name": "python",
   "nbconvert_exporter": "python",
   "pygments_lexer": "ipython3",
   "version": "3.10.7"
  },
  "orig_nbformat": 4,
  "vscode": {
   "interpreter": {
    "hash": "a9cff5a362bc38ef45d817ae74b1af54d6a076e3d773891282bce078b815ba34"
   }
  }
 },
 "nbformat": 4,
 "nbformat_minor": 2
}
