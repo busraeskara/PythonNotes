{
  "cells": [
    {
      "cell_type": "markdown",
      "metadata": {
        "id": "KNXE5yxwNilg"
      },
      "source": [
        "###**2. Hafta**\n"
      ]
    },
    {
      "cell_type": "markdown",
      "metadata": {
        "id": "St-ltKrMOPdP"
      },
      "source": [
        "**Tip Dönüşümleri**\n",
        "\n"
      ]
    },
    {
      "cell_type": "code",
      "execution_count": null,
      "metadata": {
        "colab": {
          "base_uri": "https://localhost:8080/"
        },
        "id": "X2FAB6lUOY9M",
        "outputId": "92fbdffa-f169-494d-854b-17b0b8ac8b9a"
      },
      "outputs": [
        {
          "name": "stdout",
          "output_type": "stream",
          "text": [
            "28\n",
            "3.14\n",
            "Başarısız\n"
          ]
        }
      ],
      "source": [
        "number = 28 \n",
        "pi = 3.14\n",
        "result = \"Başarısız\"\n",
        "\n",
        "print(number)\n",
        "print(pi)\n",
        "print(result)"
      ]
    },
    {
      "cell_type": "code",
      "execution_count": null,
      "metadata": {
        "id": "Z-pTQH57OzbD"
      },
      "outputs": [],
      "source": [
        "?print # ne işe yaradığını bu şekilde okuyup öğrenebiliyoruz."
      ]
    },
    {
      "cell_type": "code",
      "execution_count": null,
      "metadata": {
        "colab": {
          "base_uri": "https://localhost:8080/"
        },
        "id": "OW74tVI-O1nH",
        "outputId": "0a45d68f-56c3-41df-ebca-5255a66d5006"
      },
      "outputs": [
        {
          "name": "stdout",
          "output_type": "stream",
          "text": [
            "28.0\n",
            "3\n"
          ]
        }
      ],
      "source": [
        "print(float(number))\n",
        "print(int(pi)) # float olan pi değerini integere dönüştürdük"
      ]
    },
    {
      "cell_type": "code",
      "execution_count": null,
      "metadata": {
        "colab": {
          "base_uri": "https://localhost:8080/"
        },
        "id": "UHMlL6nSPOwE",
        "outputId": "fac1984c-589b-4169-9893-4d6e36e38114"
      },
      "outputs": [
        {
          "name": "stdout",
          "output_type": "stream",
          "text": [
            "80\n"
          ]
        }
      ],
      "source": [
        "print(int(\"80\"))"
      ]
    },
    {
      "cell_type": "code",
      "execution_count": null,
      "metadata": {
        "id": "0pIuPJKGPYz4"
      },
      "outputs": [],
      "source": [
        "print(int(\"seksen\")) #kod burda hata verir. "
      ]
    },
    {
      "cell_type": "code",
      "execution_count": null,
      "metadata": {
        "colab": {
          "base_uri": "https://localhost:8080/"
        },
        "id": "ia1fLiNLPeGj",
        "outputId": "2d9d260a-1533-4ce0-df8b-da834d89ff7f"
      },
      "outputs": [
        {
          "name": "stdout",
          "output_type": "stream",
          "text": [
            "80\n"
          ]
        }
      ],
      "source": [
        "print(str(80))"
      ]
    },
    {
      "cell_type": "markdown",
      "metadata": {
        "id": "apmGMq5YQxBv"
      },
      "source": [
        "**print() ve format()**"
      ]
    },
    {
      "cell_type": "code",
      "execution_count": null,
      "metadata": {
        "colab": {
          "base_uri": "https://localhost:8080/"
        },
        "id": "nNEEO7IeQyDG",
        "outputId": "c951a583-af6d-44a5-df5c-9f5e0f7cf772"
      },
      "outputs": [
        {
          "name": "stdout",
          "output_type": "stream",
          "text": [
            "Hoş geldin Büşra\n"
          ]
        }
      ],
      "source": [
        "name = \"Büşra\"\n",
        "print(\"Hoş geldin\", name)"
      ]
    },
    {
      "cell_type": "code",
      "execution_count": null,
      "metadata": {
        "colab": {
          "base_uri": "https://localhost:8080/"
        },
        "id": "ZPr9eEGhRCMp",
        "outputId": "bafd48a2-2388-4307-c2d9-62087cdcd215"
      },
      "outputs": [
        {
          "name": "stdout",
          "output_type": "stream",
          "text": [
            "Hoş geldin Büşra, seni aramızda gördüğümüz için mutluyuz :)\n"
          ]
        }
      ],
      "source": [
        "print(\"Hoş geldin {}, seni aramızda gördüğümüz için mutluyuz :)\".format(name))"
      ]
    },
    {
      "cell_type": "code",
      "execution_count": null,
      "metadata": {
        "colab": {
          "base_uri": "https://localhost:8080/"
        },
        "id": "0aLZCzQdRU8s",
        "outputId": "e826d62c-5a38-465d-b405-291cf1192b8b"
      },
      "outputs": [
        {
          "name": "stdout",
          "output_type": "stream",
          "text": [
            "Hoş geldin Büşra, seni Python dersinde gördüğümüz için mutluyuz :)\n"
          ]
        }
      ],
      "source": [
        "print(\"Hoş geldin {}, seni {} dersinde gördüğümüz için mutluyuz :)\".format(name, \"Python\"))"
      ]
    },
    {
      "cell_type": "code",
      "execution_count": null,
      "metadata": {
        "colab": {
          "base_uri": "https://localhost:8080/"
        },
        "id": "ZlkNbj0sSJWb",
        "outputId": "e5fa9642-2b4d-4b11-85fa-a0a29042eb87"
      },
      "outputs": [
        {
          "name": "stdout",
          "output_type": "stream",
          "text": [
            "Hoş geldin Büşra, seni Python dersinde gördüğümüz için mutluyuz :)\n"
          ]
        }
      ],
      "source": [
        "lesson = \"Python\"\n",
        "print(\"Hoş geldin {}, seni {} dersinde gördüğümüz için mutluyuz :)\".format(name, lesson))"
      ]
    },
    {
      "cell_type": "code",
      "execution_count": null,
      "metadata": {
        "colab": {
          "base_uri": "https://localhost:8080/"
        },
        "id": "QHJpQB_GSdr4",
        "outputId": "6cc4b099-bf12-4ea0-f845-28520bfa81ea"
      },
      "outputs": [
        {
          "name": "stdout",
          "output_type": "stream",
          "text": [
            "Hoş geldin Büşra, seni Python dersinde gördüğümüz için mutluyuz :)\n"
          ]
        }
      ],
      "source": [
        "print(f\"Hoş geldin {name}, seni {lesson} dersinde gördüğümüz için mutluyuz :)\")"
      ]
    },
    {
      "cell_type": "code",
      "execution_count": null,
      "metadata": {
        "colab": {
          "base_uri": "https://localhost:8080/"
        },
        "id": "vCnwSN3GTHYj",
        "outputId": "ea5b6433-97e5-48dd-cb1a-df4ad6ba3632"
      },
      "outputs": [
        {
          "name": "stdout",
          "output_type": "stream",
          "text": [
            "İsminizi Giriniz: \n",
            "Büşra\n",
            "Hoş geldin Büşra\n"
          ]
        }
      ],
      "source": [
        "print(\"İsminizi Giriniz: \" )\n",
        "name = input()\n",
        "\n",
        "print(\"Hoş geldin\", name)"
      ]
    },
    {
      "cell_type": "markdown",
      "metadata": {
        "id": "-0bZLg5PU1eA"
      },
      "source": [
        "**Kontrol Yapıları**\n",
        "\n",
        "< Küçüktür\n",
        "\n",
        "'>' Büyüktür\n",
        "\n",
        "<= Küçük Eşittir\n",
        "\n",
        "'>=' Büyük Eşittir\n",
        "\n",
        "== Eşittir\n",
        "\n",
        "!= Eşit Değildir"
      ]
    },
    {
      "cell_type": "code",
      "execution_count": null,
      "metadata": {
        "colab": {
          "base_uri": "https://localhost:8080/"
        },
        "id": "_ypzJAHrT8_p",
        "outputId": "b3043a04-da6e-42c0-bbf6-d6075678a335"
      },
      "outputs": [
        {
          "name": "stdout",
          "output_type": "stream",
          "text": [
            "y  değeri x değerinden büyüktür!\n"
          ]
        }
      ],
      "source": [
        "x = 12\n",
        "y = 18\n",
        "\n",
        "if y > x:\n",
        "  print(\"y  değeri x değerinden büyüktür!\")"
      ]
    },
    {
      "cell_type": "code",
      "execution_count": null,
      "metadata": {
        "colab": {
          "base_uri": "https://localhost:8080/"
        },
        "id": "de4j3Zo7V3SN",
        "outputId": "4fe2bdfc-847d-4a29-fd60-f094fb3eca5c"
      },
      "outputs": [
        {
          "name": "stdout",
          "output_type": "stream",
          "text": [
            "y  değeri x değerine eşittir!\n"
          ]
        }
      ],
      "source": [
        "x = 12\n",
        "y = 12\n",
        "\n",
        "if y > x:\n",
        "    print(\"y  değeri x değerinden büyüktür!\")\n",
        "elif y == x:\n",
        "    print(\"y  değeri x değerine eşittir!\")"
      ]
    },
    {
      "cell_type": "code",
      "execution_count": null,
      "metadata": {
        "colab": {
          "base_uri": "https://localhost:8080/"
        },
        "id": "CfC4R83tWLi2",
        "outputId": "b821e71d-2825-473f-bce7-882817a830a1"
      },
      "outputs": [
        {
          "name": "stdout",
          "output_type": "stream",
          "text": [
            "y  değeri x değerinden küçüktür!\n"
          ]
        }
      ],
      "source": [
        "x = 18\n",
        "y = 12\n",
        "\n",
        "if y > x:\n",
        "    print(\"y  değeri x değerinden büyüktür!\")\n",
        "elif y == x:\n",
        "    print(\"y  değeri x değerine eşittir!\")\n",
        "else:\n",
        "  print(\"y  değeri x değerinden küçüktür!\")\n",
        "  "
      ]
    },
    {
      "cell_type": "code",
      "execution_count": null,
      "metadata": {
        "colab": {
          "base_uri": "https://localhost:8080/"
        },
        "id": "xeK7H-M3WhdK",
        "outputId": "f076278c-7cb0-4a6d-bee7-e3998bde2bf8"
      },
      "outputs": [
        {
          "name": "stdout",
          "output_type": "stream",
          "text": [
            "Birinci sayıyı giriniz: 12\n",
            "İkinci sayıyı giriniz: 24\n",
            "12 değeri 24 değerinden küçüktür.\n"
          ]
        }
      ],
      "source": [
        "# kullanıcıdan iki sayı alalım. İlk kullanımda >= kullanılacak. iç içe kontrol yapısı kullanılacak.\n",
        "\n",
        "num1 = int(input(\"Birinci sayıyı giriniz: \"))\n",
        "num2 = int(input(\"İkinci sayıyı giriniz: \"))\n",
        "\n",
        "if num1 >= num2:\n",
        "   if num1 == num2:\n",
        "     print(\" {} değeri {} değerine eşittir.\".format(num1, num2))   \n",
        "   else:\n",
        "     print(f\"{num1} değeri {num2} değerinden büyüktür.\")\n",
        "else:\n",
        "  print(f\"{num1} değeri {num2} değerinden küçüktür.\")\n",
        "  \n",
        " "
      ]
    },
    {
      "cell_type": "code",
      "execution_count": null,
      "metadata": {
        "colab": {
          "base_uri": "https://localhost:8080/"
        },
        "id": "EWJcs7oihERI",
        "outputId": "0792a6b2-3c84-40fe-8136-cf81db902e61"
      },
      "outputs": [
        {
          "name": "stdout",
          "output_type": "stream",
          "text": [
            "True\n"
          ]
        }
      ],
      "source": [
        "result = True\n",
        "\n",
        "if result: print(\"True\")\n",
        "else: print(\"False\")"
      ]
    },
    {
      "cell_type": "code",
      "execution_count": null,
      "metadata": {
        "colab": {
          "base_uri": "https://localhost:8080/"
        },
        "id": "et8xi3jpjJ1E",
        "outputId": "00cb1870-f6bb-43c9-f283-9c37017502cd"
      },
      "outputs": [
        {
          "name": "stdout",
          "output_type": "stream",
          "text": [
            "True\n"
          ]
        }
      ],
      "source": [
        "result = True\n",
        "\n",
        "if result: \n",
        "  print(\"True\")\n",
        "  result = False\n",
        "else: print(\"False\")"
      ]
    },
    {
      "cell_type": "markdown",
      "metadata": {
        "id": "IDewXPC7jkhq"
      },
      "source": [
        "**Döngüler**\n",
        "\n",
        "*   range\n",
        "*   for\n",
        "*   while\n",
        "\n"
      ]
    },
    {
      "cell_type": "markdown",
      "metadata": {
        "id": "OvHDaVEkklKi"
      },
      "source": [
        "**range**\n",
        "\n",
        "range(start_value, end_value_step) #step: adım adım gideceğimiz sayı. belirtmezsek default olarak 1 değerini kabul eder görür.\n",
        "start_value'yi belirtmezsek 0 olarak kabul eder.\n",
        "\n",
        "**Belirtilmediği durumlarda;**\n",
        "* start_value = 0\n",
        "* step = kabul edilir.\n",
        "* end_value dahil değildir."
      ]
    },
    {
      "cell_type": "code",
      "execution_count": null,
      "metadata": {
        "id": "NV4jqtujjdQv"
      },
      "outputs": [],
      "source": [
        "range(5) # range(0, 5, 1) => başlangıç değeri0, birer birer beşe kadar artacak. beş dahil değil.\n",
        "\n",
        "range(2, 34, 3) # 2'den başlayıp 34'e kadar 3'er 3'er gider.\n",
        "\n",
        "range(100, 1, -5) #100'den 1'e doğru 5'er 5'er azalarak gider."
      ]
    },
    {
      "cell_type": "markdown",
      "metadata": {
        "id": "36QbLfBNmupy"
      },
      "source": [
        "**for**\n",
        "\n"
      ]
    },
    {
      "cell_type": "code",
      "execution_count": null,
      "metadata": {
        "colab": {
          "base_uri": "https://localhost:8080/"
        },
        "id": "zvfjoUyylfJx",
        "outputId": "907d5536-9565-40a2-c96c-3c5840c97a32"
      },
      "outputs": [
        {
          "name": "stdout",
          "output_type": "stream",
          "text": [
            "0\n",
            "1\n",
            "2\n",
            "3\n",
            "4\n"
          ]
        }
      ],
      "source": [
        "for i in range(5):\n",
        "  print(i)"
      ]
    },
    {
      "cell_type": "code",
      "execution_count": null,
      "metadata": {
        "colab": {
          "base_uri": "https://localhost:8080/"
        },
        "id": "feqI7czcnBLn",
        "outputId": "0828a592-9d3f-4c63-c668-e95d71b346b3"
      },
      "outputs": [
        {
          "name": "stdout",
          "output_type": "stream",
          "text": [
            "2\n",
            "5\n",
            "8\n",
            "11\n",
            "14\n",
            "17\n",
            "20\n",
            "23\n",
            "26\n",
            "29\n",
            "32\n"
          ]
        }
      ],
      "source": [
        "for item in range(2, 34, 3):\n",
        "  print(item)"
      ]
    },
    {
      "cell_type": "code",
      "execution_count": null,
      "metadata": {
        "colab": {
          "base_uri": "https://localhost:8080/"
        },
        "id": "qvaCtfqunc-z",
        "outputId": "0063cb48-cbbd-44ec-911f-fc64cad51d99"
      },
      "outputs": [
        {
          "name": "stdout",
          "output_type": "stream",
          "text": [
            "40\n",
            "35\n",
            "30\n",
            "25\n",
            "20\n",
            "15\n",
            "10\n",
            "5\n"
          ]
        }
      ],
      "source": [
        "for x in range(40, 1, -5):\n",
        "  print(x)"
      ]
    },
    {
      "cell_type": "code",
      "execution_count": null,
      "metadata": {
        "colab": {
          "base_uri": "https://localhost:8080/"
        },
        "id": "G_eOxxFznv5t",
        "outputId": "0134b831-6268-48f7-e7ec-5e192f5075b9"
      },
      "outputs": [
        {
          "name": "stdout",
          "output_type": "stream",
          "text": [
            "40\n",
            "35\n",
            "30\n",
            "25\n"
          ]
        }
      ],
      "source": [
        "for x in range(40, 1, -5):\n",
        "  if x <= 20:\n",
        "    break #döngüyü kır, döngüden çık. artık devam etme\n",
        "  print(x)"
      ]
    },
    {
      "cell_type": "code",
      "execution_count": null,
      "metadata": {
        "colab": {
          "base_uri": "https://localhost:8080/"
        },
        "id": "yBPig_XzqI0s",
        "outputId": "af543a69-93ff-46f7-c47b-4d14351029b4"
      },
      "outputs": [
        {
          "name": "stdout",
          "output_type": "stream",
          "text": [
            "40\n",
            "35\n",
            "30\n",
            "25\n"
          ]
        }
      ],
      "source": [
        "#break - istenen koşul sağlandığında döngüyü kırar ve çıkar.\n",
        "\n",
        "for x in range(40, 1, -5):\n",
        "  if x <= 20:\n",
        "    break #döngüyü kır, döngüden çık. artık devam etme.\n",
        "  else:\n",
        "    print(x)\n",
        "  "
      ]
    },
    {
      "cell_type": "code",
      "execution_count": null,
      "metadata": {
        "colab": {
          "base_uri": "https://localhost:8080/"
        },
        "id": "swaBj1CLqNX2",
        "outputId": "d5329a38-f0c8-4b64-d2a8-e78580494cab"
      },
      "outputs": [
        {
          "name": "stdout",
          "output_type": "stream",
          "text": [
            "35\n",
            "25\n",
            "15\n",
            "5\n"
          ]
        }
      ],
      "source": [
        "# continue - istenen koşulu atlayıp döngüye devam eder.\n",
        "\n",
        "for x in range(40, 1, -5):\n",
        "  if x % 2 == 0: # x'in 2'ye bölümünden kalanı sıfır olanları yazdırmadık.\n",
        "    continue # o koşulu atlayıp döngüye devam etmesini sağlar.\n",
        "  print(x)"
      ]
    },
    {
      "cell_type": "markdown",
      "metadata": {
        "id": "YIPZRqRFxWVb"
      },
      "source": [
        "**while** koşul sağlandığı sürece"
      ]
    },
    {
      "cell_type": "code",
      "execution_count": null,
      "metadata": {
        "colab": {
          "base_uri": "https://localhost:8080/"
        },
        "id": "pfswnz7QrxnO",
        "outputId": "91613691-5b1a-4db9-c555-f6c794ede88c"
      },
      "outputs": [
        {
          "name": "stdout",
          "output_type": "stream",
          "text": [
            "1\n",
            "2\n",
            "3\n",
            "4\n",
            "Döngü tamamlandı\n"
          ]
        }
      ],
      "source": [
        "count = 1\n",
        "\n",
        "while count < 5:\n",
        "  print(count)\n",
        "  count += 1\n",
        "\n",
        "print(\"Döngü tamamlandı\")"
      ]
    },
    {
      "cell_type": "code",
      "execution_count": null,
      "metadata": {
        "id": "TTS0HDHqxdmY"
      },
      "outputs": [],
      "source": [
        "# sonsuz döngü\n",
        "count = 1\n",
        "while count < 5:\n",
        "  print(count)"
      ]
    },
    {
      "cell_type": "code",
      "execution_count": null,
      "metadata": {
        "colab": {
          "base_uri": "https://localhost:8080/"
        },
        "id": "EZ7kk2XIx6OI",
        "outputId": "be9736ca-f28d-47ac-d988-e35f89eea4c3"
      },
      "outputs": [
        {
          "name": "stdout",
          "output_type": "stream",
          "text": [
            "*\n",
            "*\n",
            "*\n",
            "*\n",
            "*\n",
            "*\n",
            "*\n",
            "*\n",
            "*\n",
            "*\n",
            "*\n",
            "*\n",
            "*\n",
            "*\n",
            "*\n"
          ]
        }
      ],
      "source": [
        "number = 5\n",
        "\n",
        "for i in range(number):\n",
        "  for j in range (0, i + 1):\n",
        "    print(\"*\")"
      ]
    },
    {
      "cell_type": "code",
      "execution_count": null,
      "metadata": {
        "colab": {
          "base_uri": "https://localhost:8080/"
        },
        "id": "zfj52WC11DEs",
        "outputId": "0cb7ec57-cdad-4b6b-9210-25bb977dfc8d"
      },
      "outputs": [
        {
          "name": "stdout",
          "output_type": "stream",
          "text": [
            "*\n",
            "**\n",
            "***\n",
            "****\n",
            "*****\n"
          ]
        }
      ],
      "source": [
        "for i in range(number):\n",
        "  for j in range (0, i + 1):\n",
        "    print(\"*\", end=\"\") #2.for döngüsünü yan yana yazar\n",
        "  print()"
      ]
    },
    {
      "cell_type": "code",
      "execution_count": null,
      "metadata": {
        "colab": {
          "base_uri": "https://localhost:8080/"
        },
        "id": "dWox6Yqj1WOS",
        "outputId": "bb7d6dd2-8018-4d30-c2b8-f60238b4955e"
      },
      "outputs": [
        {
          "name": "stdout",
          "output_type": "stream",
          "text": [
            "*\n",
            "**\n",
            "***\n",
            "****\n",
            "*****\n"
          ]
        }
      ],
      "source": [
        "number = 5\n",
        "for i in range(1, number + 1):\n",
        "  print(\"*\"*i) #*i: içindeki değeri birden fazla yazmak anlamına gelir."
      ]
    },
    {
      "cell_type": "code",
      "execution_count": null,
      "metadata": {
        "colab": {
          "base_uri": "https://localhost:8080/"
        },
        "id": "IeI8cuVE3Kht",
        "outputId": "42fa6ede-626c-4b74-ed18-ded7ce729543"
      },
      "outputs": [
        {
          "name": "stdout",
          "output_type": "stream",
          "text": [
            "PythonPythonPythonPythonPythonPython\n"
          ]
        }
      ],
      "source": [
        "print(\"Python\"*6)"
      ]
    },
    {
      "cell_type": "code",
      "execution_count": null,
      "metadata": {
        "id": "gJz9egqh6SQf"
      },
      "outputs": [],
      "source": [
        "# kullanıcıdan bir sayı alıp ardından 0 ile girilen değer\n",
        "# arasındaki sayıların toplamını veren kod blogunu yazınız"
      ]
    },
    {
      "cell_type": "code",
      "execution_count": null,
      "metadata": {
        "colab": {
          "base_uri": "https://localhost:8080/"
        },
        "id": "TetSKtl26njv",
        "outputId": "68eafe23-d2ec-40fb-ebb3-f744720f3536"
      },
      "outputs": [
        {
          "name": "stdout",
          "output_type": "stream",
          "text": [
            "Bir sayıyı giriniz: 4\n",
            "0\n",
            "1\n",
            "3\n",
            "6\n",
            "10\n",
            "0 ile 4 sayıları arasındaki sayıların toplamı 10\n"
          ]
        }
      ],
      "source": [
        "num = int(input(\"Bir sayıyı giriniz: \"))\n",
        "\n",
        "total = 0 # her döngüde 1,2,3 değerlerini alıp total değerlerine ekliyor\n",
        "for i in range(num + 1):\n",
        "  total += i\n",
        "  print(total)\n",
        "\n",
        "print(f\"0 ile {num} sayıları arasındaki sayıların toplamı {total}\")\n"
      ]
    },
    {
      "cell_type": "code",
      "execution_count": null,
      "metadata": {
        "id": "OrX0McXx8JgJ"
      },
      "outputs": [],
      "source": [
        "# toplama işlemi esnasında eğer o an ki değer 5'e tam bölünebiliyorsa \n",
        "# o sayıyı toplama ekleme"
      ]
    },
    {
      "cell_type": "code",
      "execution_count": null,
      "metadata": {
        "colab": {
          "base_uri": "https://localhost:8080/"
        },
        "id": "t3xUlGgb9vp2",
        "outputId": "c34e58b0-c72d-46ad-d031-9bd79844ed55"
      },
      "outputs": [
        {
          "name": "stdout",
          "output_type": "stream",
          "text": [
            "Bir sayıyı giriniz: 11\n",
            "0 ile 11 sayıları arasındaki sayıların toplamı 51\n"
          ]
        }
      ],
      "source": [
        "num = int(input(\"Bir sayıyı giriniz: \"))\n",
        "\n",
        "total = 0\n",
        "for item in range(num + 1):\n",
        "  if item % 5 == 0:\n",
        "    continue\n",
        "  total += item\n",
        "  \n",
        "print(f\"0 ile {num} sayıları arasındaki sayıların toplamı {total}\")\n"
      ]
    },
    {
      "cell_type": "code",
      "execution_count": null,
      "metadata": {
        "id": "YY-MRw-2-WR6"
      },
      "outputs": [],
      "source": [
        "# bir sayının kaç basamaklı olduğunu hesaplayalım"
      ]
    },
    {
      "cell_type": "code",
      "execution_count": null,
      "metadata": {
        "id": "KleJ2U7J_TcL"
      },
      "outputs": [],
      "source": [
        "#count = 0\n",
        "\n",
        "# while x % "
      ]
    },
    {
      "cell_type": "code",
      "execution_count": null,
      "metadata": {
        "colab": {
          "base_uri": "https://localhost:8080/"
        },
        "id": "LgufR413DWKC",
        "outputId": "84349576-939a-42a2-c6c7-8e48fe218eb0"
      },
      "outputs": [
        {
          "name": "stdout",
          "output_type": "stream",
          "text": [
            "11\n",
            "13\n",
            "17\n",
            "19\n"
          ]
        }
      ],
      "source": [
        "# bir aralık belirleyip bu aralıktaki tüm asal sayıları ekrana yazın\n",
        "\n",
        "start_value = 11\n",
        "end_value = 20\n",
        "\n",
        "for i in range(start_value, end_value):\n",
        "  asal = True\n",
        "  for j in range(2, i):\n",
        "    if i % j == 0:\n",
        "      asal = False\n",
        "      break\n",
        "  if asal:\n",
        "    print(i)\n",
        "  "
      ]
    },
    {
      "cell_type": "code",
      "execution_count": null,
      "metadata": {
        "colab": {
          "base_uri": "https://localhost:8080/"
        },
        "id": "g9_N3wePFuCr",
        "outputId": "85e7ddee-89ea-45b9-df00-9ba13021377b"
      },
      "outputs": [
        {
          "name": "stdout",
          "output_type": "stream",
          "text": [
            "Seri için bir sayı giriniz: 10\n",
            "0 1 1 2 3 5 8 13 21 34 "
          ]
        }
      ],
      "source": [
        "# fibonacci serisini ekrana bastıran kod bloğu\n",
        "\n",
        "num1, num2 = 0, 1\n",
        "x = int(input(\"Seri için bir sayı giriniz: \"))\n",
        "\n",
        "for i in range(x):\n",
        "  print(num1, end=\" \")\n",
        "  total = num1 + num2\n",
        "  num1 = num2\n",
        "  num2 = total"
      ]
    },
    {
      "cell_type": "code",
      "execution_count": null,
      "metadata": {
        "colab": {
          "base_uri": "https://localhost:8080/"
        },
        "id": "tlcLHUCcL20y",
        "outputId": "80a47c76-1183-48ce-ad52-e789217b610c"
      },
      "outputs": [
        {
          "name": "stdout",
          "output_type": "stream",
          "text": [
            "Bir sayı giriniz: 0\n",
            "0 sayısının faktöriyeli = 1\n"
          ]
        }
      ],
      "source": [
        "# faktöriyel hesaplama\n",
        "\n",
        "number = int(input(\"Bir sayı giriniz: \"))\n",
        "\n",
        "x = 1 \n",
        "for i in range(number, 1, -1): # numberdan başlayıp 1'e kadar azalarak (-1) gidecek\n",
        "  x *= i\n",
        "\n",
        "print(f\"{number} sayısının faktöriyeli = {x}\")\n",
        "   \n"
      ]
    },
    {
      "cell_type": "code",
      "execution_count": null,
      "metadata": {
        "colab": {
          "base_uri": "https://localhost:8080/"
        },
        "id": "lYzFr1wUOSsh",
        "outputId": "8accbe42-5768-4236-c5d0-e48e12589abe"
      },
      "outputs": [
        {
          "name": "stdout",
          "output_type": "stream",
          "text": [
            "Girilen sayı:  5689\n",
            "Ters çevrilmiş hali:  9865\n"
          ]
        }
      ],
      "source": [
        "# girilen sayıyı tersine çevirelim\n",
        "\n",
        "a = 5689\n",
        "print(\"Girilen sayı: \", a)\n",
        "new_number = 0\n",
        "while a > 0:\n",
        "  temp = a % 10 #bana 9 değerini verir \n",
        "  new_number = new_number * 10 + temp # 10 ile çarparak sola kaydırır, \n",
        "  a //= 10\n",
        "\n",
        "print(\"Ters çevrilmiş hali: \", new_number)"
      ]
    },
    {
      "cell_type": "code",
      "execution_count": null,
      "metadata": {
        "id": "O2oX-cltQ1UO"
      },
      "outputs": [],
      "source": []
    }
  ],
  "metadata": {
    "colab": {
      "collapsed_sections": [],
      "provenance": []
    },
    "kernelspec": {
      "display_name": "Python 3.10.7 64-bit",
      "language": "python",
      "name": "python3"
    },
    "language_info": {
      "name": "python",
      "version": "3.10.7"
    },
    "vscode": {
      "interpreter": {
        "hash": "a9cff5a362bc38ef45d817ae74b1af54d6a076e3d773891282bce078b815ba34"
      }
    }
  },
  "nbformat": 4,
  "nbformat_minor": 0
}
