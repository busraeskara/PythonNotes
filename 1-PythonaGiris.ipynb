{
  "nbformat": 4,
  "nbformat_minor": 0,
  "metadata": {
    "colab": {
      "provenance": [],
      "collapsed_sections": []
    },
    "kernelspec": {
      "name": "python3",
      "display_name": "Python 3"
    },
    "language_info": {
      "name": "python"
    }
  },
  "cells": [
    {
      "cell_type": "code",
      "execution_count": null,
      "metadata": {
        "colab": {
          "base_uri": "https://localhost:8080/"
        },
        "id": "yb6v-6PmOmXm",
        "outputId": "21c5ba07-0cac-4cde-989d-63e905ebfe4d"
      },
      "outputs": [
        {
          "output_type": "stream",
          "name": "stdout",
          "text": [
            "Hello World!\n"
          ]
        }
      ],
      "source": [
        "print(\"Hello World!\")"
      ]
    },
    {
      "cell_type": "markdown",
      "source": [
        "**Değişkenler**\n",
        "\n",
        "Programlama dilinde verileri tutan yapılardır. \n",
        "\n",
        "**variable_name = variable_value**"
      ],
      "metadata": {
        "id": "_MW0PfHOXJ0Y"
      }
    },
    {
      "cell_type": "code",
      "source": [
        "name = \"Büşra\"\n",
        "age = 23\n",
        "salary = 20000.50\n",
        "\n",
        "print(name)\n",
        "print(age)\n",
        "print(salary)"
      ],
      "metadata": {
        "colab": {
          "base_uri": "https://localhost:8080/"
        },
        "id": "_ayutiDuW22x",
        "outputId": "825e8435-cc01-46c1-e247-160f1ad70b2c"
      },
      "execution_count": null,
      "outputs": [
        {
          "output_type": "stream",
          "name": "stdout",
          "text": [
            "Büşra\n",
            "22\n",
            "20000.5\n"
          ]
        }
      ]
    },
    {
      "cell_type": "markdown",
      "source": [
        "**Değişkenleri Tanımlama Kuralları**\n",
        "\n",
        "\n",
        "\n",
        "*   Değişken harf, rakam, alt çizgi kombinasyonunu içermeli\n",
        "*   Rakamla başlamamalı\n",
        "*   Büyük küçük harf duyarlı\n",
        "\n",
        "*   person_name\n",
        "*   personName\n"
      ],
      "metadata": {
        "id": "SQ2hqwnTYEse"
      }
    },
    {
      "cell_type": "markdown",
      "source": [
        "**Bir değişkne değerini değiştirme**"
      ],
      "metadata": {
        "id": "vGIlvgDVZhGl"
      }
    },
    {
      "cell_type": "code",
      "source": [
        "variable = 40\n",
        "\n",
        "print(variable)"
      ],
      "metadata": {
        "colab": {
          "base_uri": "https://localhost:8080/"
        },
        "id": "xlPaC2BYZldx",
        "outputId": "2e5c374f-7bb8-4052-ac5b-e1079c597460"
      },
      "execution_count": null,
      "outputs": [
        {
          "output_type": "stream",
          "name": "stdout",
          "text": [
            "40\n"
          ]
        }
      ]
    },
    {
      "cell_type": "code",
      "source": [
        "type(variable) #değişkenin tipini öğrenmek için type() kullanılır."
      ],
      "metadata": {
        "colab": {
          "base_uri": "https://localhost:8080/"
        },
        "id": "37H2dGgSZqaG",
        "outputId": "f84ca8a1-da7f-47b0-c126-b6dd5c4b3a8a"
      },
      "execution_count": null,
      "outputs": [
        {
          "output_type": "execute_result",
          "data": {
            "text/plain": [
              "int"
            ]
          },
          "metadata": {},
          "execution_count": 4
        }
      ]
    },
    {
      "cell_type": "code",
      "source": [
        "variable = \"büşra\"\n",
        "\n",
        "type(variable)\n",
        "print(variable)"
      ],
      "metadata": {
        "colab": {
          "base_uri": "https://localhost:8080/"
        },
        "id": "dHfLVT9HZwLv",
        "outputId": "9759d3ef-2e6f-4bff-8dfd-d86988be06ed"
      },
      "execution_count": null,
      "outputs": [
        {
          "output_type": "execute_result",
          "data": {
            "text/plain": [
              "str"
            ]
          },
          "metadata": {},
          "execution_count": 2
        }
      ]
    },
    {
      "cell_type": "code",
      "source": [
        "type(variable)"
      ],
      "metadata": {
        "colab": {
          "base_uri": "https://localhost:8080/"
        },
        "id": "nTOkFxaWaKcN",
        "outputId": "06bf7ef1-54cd-4915-de62-37cca1ed4b4d"
      },
      "execution_count": null,
      "outputs": [
        {
          "output_type": "execute_result",
          "data": {
            "text/plain": [
              "str"
            ]
          },
          "metadata": {},
          "execution_count": 6
        }
      ]
    },
    {
      "cell_type": "markdown",
      "source": [
        "**Büyük küçük harf duyarlıdır**"
      ],
      "metadata": {
        "id": "YnVi1RVgdAcw"
      }
    },
    {
      "cell_type": "code",
      "source": [
        "variable = \"Büşra\"\n",
        "Variable =\"Eşkara\"\n",
        "\n",
        "print(variable)\n",
        "print(Variable)"
      ],
      "metadata": {
        "colab": {
          "base_uri": "https://localhost:8080/"
        },
        "id": "nrc7EIC6aMYA",
        "outputId": "7f1f7962-aa1c-4944-c615-045656ada7c4"
      },
      "execution_count": null,
      "outputs": [
        {
          "output_type": "stream",
          "name": "stdout",
          "text": [
            "Büşra\n",
            "Eşkara\n"
          ]
        }
      ]
    },
    {
      "cell_type": "markdown",
      "source": [
        "**Değişkenler**"
      ],
      "metadata": {
        "id": "MqcpxQSndH1F"
      }
    },
    {
      "cell_type": "markdown",
      "source": [
        "**Integer**"
      ],
      "metadata": {
        "id": "JBu6HfBZmC2i"
      }
    },
    {
      "cell_type": "code",
      "source": [
        "age = 26"
      ],
      "metadata": {
        "id": "td_o2LUTmD1_"
      },
      "execution_count": null,
      "outputs": []
    },
    {
      "cell_type": "markdown",
      "source": [
        "**Float** "
      ],
      "metadata": {
        "id": "V8aHN3mKmGEh"
      }
    },
    {
      "cell_type": "code",
      "source": [
        "pi_sayisi = 3.14"
      ],
      "metadata": {
        "id": "9AafEPRCmG9P"
      },
      "execution_count": null,
      "outputs": []
    },
    {
      "cell_type": "markdown",
      "source": [
        "**Boolean**"
      ],
      "metadata": {
        "id": "jlsxuDUamHoy"
      }
    },
    {
      "cell_type": "code",
      "source": [
        "isFemale = True"
      ],
      "metadata": {
        "id": "LQvu7EfPmIZx"
      },
      "execution_count": null,
      "outputs": []
    },
    {
      "cell_type": "markdown",
      "source": [
        "**String**\n"
      ],
      "metadata": {
        "id": "2q7QOmIEmY-q"
      }
    },
    {
      "cell_type": "code",
      "source": [
        "language =\"Python\""
      ],
      "metadata": {
        "id": "LX2bqhP1mcC4"
      },
      "execution_count": null,
      "outputs": []
    },
    {
      "cell_type": "markdown",
      "source": [
        "**Çoklu Değişken Atama**"
      ],
      "metadata": {
        "id": "KKYLoUIumgXx"
      }
    },
    {
      "cell_type": "code",
      "source": [
        "number1 = number2 = number3 = 20\n",
        "\n",
        "print(number2)"
      ],
      "metadata": {
        "colab": {
          "base_uri": "https://localhost:8080/"
        },
        "id": "kkyylW6KmnBZ",
        "outputId": "1d733446-b021-4379-bc12-955d5edd377f"
      },
      "execution_count": null,
      "outputs": [
        {
          "output_type": "stream",
          "name": "stdout",
          "text": [
            "20\n"
          ]
        }
      ]
    },
    {
      "cell_type": "code",
      "source": [
        "name, age, salary, letter, isNumber = \"Büşra\", 23, 20000.50, 'a', False\n",
        "\n",
        "print(name)\n",
        "print(age)\n",
        "print(salary)\n",
        "print(letter)\n",
        "print(isNumber)"
      ],
      "metadata": {
        "colab": {
          "base_uri": "https://localhost:8080/"
        },
        "id": "rXzuWbk7m3U8",
        "outputId": "dd127daa-8b87-45bf-9a32-500d43d1a8e2"
      },
      "execution_count": null,
      "outputs": [
        {
          "output_type": "stream",
          "name": "stdout",
          "text": [
            "Büşra\n",
            "22\n",
            "20000.5\n",
            "a\n",
            "False\n"
          ]
        }
      ]
    },
    {
      "cell_type": "markdown",
      "source": [
        "**Değişkenlerde Kapsam** \n",
        "\n",
        "*   Yerel\n",
        "*   Global\n",
        "\n"
      ],
      "metadata": {
        "id": "oMBsWMkXn-F5"
      }
    },
    {
      "cell_type": "markdown",
      "source": [
        "**Yerel Değişken** \n",
        "\n",
        "Tanımlandığı yerdeki kod bloğunda çalışan değişkenlerdir. Başka yerden erişilemezler."
      ],
      "metadata": {
        "id": "Z03ntDtNoYFk"
      }
    },
    {
      "cell_type": "code",
      "source": [
        "def getSalary1():\n",
        "  salary = 10000\n",
        "  print(\"salary1\", salary)\n",
        "\n",
        "def getSalary2():\n",
        "  print(\"salary2\", salary)\n",
        "\n",
        "getSalary1()\n",
        "getSalary2()"
      ],
      "metadata": {
        "colab": {
          "base_uri": "https://localhost:8080/"
        },
        "id": "wmrRw2QUobim",
        "outputId": "e6f95f58-d239-4e2e-873e-c795a87ba2f5"
      },
      "execution_count": null,
      "outputs": [
        {
          "output_type": "stream",
          "name": "stdout",
          "text": [
            "salary1 10000\n",
            "salary2 20000.5\n"
          ]
        }
      ]
    },
    {
      "cell_type": "markdown",
      "source": [
        "**Global Değişkenler**\n",
        "\n",
        "Kodun her yerinden erişilebilen değişkenlerdir.\n"
      ],
      "metadata": {
        "id": "4zDwXtmnsPfl"
      }
    },
    {
      "cell_type": "code",
      "source": [
        "salary1 = 10000\n",
        "\n",
        "def getSalary1():\n",
        "  print(\"salary1\", salary1)\n",
        "\n",
        "def getSalary2():\n",
        "  print(\"salary2\", salary1)\n",
        "\n",
        "getSalary1()\n",
        "getSalary2()\n",
        "\n",
        "print(\"main\", salary1)"
      ],
      "metadata": {
        "colab": {
          "base_uri": "https://localhost:8080/"
        },
        "id": "TtoedHctvHMh",
        "outputId": "d36e33b7-3612-4969-c755-6dab05d37994"
      },
      "execution_count": null,
      "outputs": [
        {
          "output_type": "stream",
          "name": "stdout",
          "text": [
            "salary1 10000\n",
            "salary2 10000\n",
            "main 10000\n"
          ]
        }
      ]
    },
    {
      "cell_type": "markdown",
      "source": [
        "Global salary değişkenin değerini değiştirelim."
      ],
      "metadata": {
        "id": "cCkd3HpzwHCS"
      }
    },
    {
      "cell_type": "code",
      "source": [
        "salary1 = 10000\n",
        "\n",
        "def getSalary1():\n",
        "  salary1 = 15000\n",
        "  print(\"salary1\", salary1)\n",
        "\n",
        "def getSalary2():\n",
        "  print(\"salary2\", salary1)\n",
        "\n",
        "getSalary1()\n",
        "getSalary2()\n",
        "\n",
        "print(\"main\", salary1)"
      ],
      "metadata": {
        "colab": {
          "base_uri": "https://localhost:8080/"
        },
        "id": "9c-_Omm4wMhB",
        "outputId": "bdf02212-852d-40f5-cd86-56d77151cb20"
      },
      "execution_count": null,
      "outputs": [
        {
          "output_type": "stream",
          "name": "stdout",
          "text": [
            "salary1 15000\n",
            "salary2 10000\n",
            "main 10000\n"
          ]
        }
      ]
    },
    {
      "cell_type": "code",
      "source": [
        "salary1 = 10000\n",
        "\n",
        "def getSalary1():\n",
        "  global salary1 # salary1 olarak bu metodun içinde kullandığım hepsi salary1 dir.\n",
        "  salary1 = 15000\n",
        "  print(\"salary1\", salary1)\n",
        "\n",
        "def getSalary2():\n",
        "  print(\"salary2\", salary1)\n",
        "\n",
        "getSalary1()\n",
        "getSalary2()\n",
        "\n",
        "print(\"main\", salary1)"
      ],
      "metadata": {
        "colab": {
          "base_uri": "https://localhost:8080/"
        },
        "id": "-4yM5ZJYwWcZ",
        "outputId": "ef680352-9837-4279-f9e2-36b17d220591"
      },
      "execution_count": null,
      "outputs": [
        {
          "output_type": "stream",
          "name": "stdout",
          "text": [
            "salary1 15000\n",
            "salary2 15000\n",
            "main 15000\n"
          ]
        }
      ]
    },
    {
      "cell_type": "code",
      "source": [
        "salary1 = 10000\n",
        "\n",
        "def getSalary1():\n",
        "  global salary1 # salary1 olarak bu metodun içinde kullandığım hepsi salary1 dir.\n",
        "  salary1 = 15000\n",
        "  print(\"salary1\", salary1)\n",
        "\n",
        "def getSalary2():\n",
        "  print(\"salary2\", salary1)\n",
        "\n",
        "getSalary2()\n",
        "getSalary1()\n",
        "\n",
        "print(\"main\", salary1)"
      ],
      "metadata": {
        "colab": {
          "base_uri": "https://localhost:8080/"
        },
        "id": "P4qRl8-ixB6m",
        "outputId": "773551e8-6335-44bf-fd09-a052fda58049"
      },
      "execution_count": null,
      "outputs": [
        {
          "output_type": "stream",
          "name": "stdout",
          "text": [
            "salary2 10000\n",
            "salary1 15000\n",
            "main 15000\n"
          ]
        }
      ]
    },
    {
      "cell_type": "markdown",
      "source": [
        "**Operatörler**\n",
        "\n",
        "**+** Toplama\n",
        "\n",
        "**-** Çıkarma\n",
        "\n",
        "**'*'** Çarpma\n",
        "\n",
        "**/** Float Bölme\n",
        "\n",
        "**//** Int Bölme\n",
        "\n",
        "**%** Mod Alma\n",
        "\n",
        "****** Üs Alma\n"
      ],
      "metadata": {
        "id": "e09YcIK22u6_"
      }
    },
    {
      "cell_type": "code",
      "source": [
        "print(\"3 + 2 = \", 3 + 2)\n",
        "print(\"7 - 3 = \", 7 - 3)\n",
        "print(\"5 * 4 = \", 5 * 4)\n",
        "print(\"6 / 3 = \", 6 / 3) \n",
        "print(\"6 // 4 = \", 6 // 4)\n",
        "print(\"9 % 4 = \", 9 % 4)\n",
        "print(\"2 ** 5 = \", 2 ** 5)"
      ],
      "metadata": {
        "colab": {
          "base_uri": "https://localhost:8080/"
        },
        "id": "G_5Pf1si3gf1",
        "outputId": "5084de3d-0b1b-4ca0-87be-1cef23768669"
      },
      "execution_count": null,
      "outputs": [
        {
          "output_type": "stream",
          "name": "stdout",
          "text": [
            "3 + 2 =  5\n",
            "7 - 3 =  4\n",
            "5 * 4 =  20\n",
            "6 / 3 =  2.0\n",
            "6 // 4 =  1\n",
            "9 % 4 =  1\n",
            "2 ** 5 =  32\n"
          ]
        }
      ]
    },
    {
      "cell_type": "markdown",
      "source": [
        "**İlişkisel (Karşılaştırma) Operatörleri**\n",
        "\n",
        "< Küçüktür\n",
        "\n",
        "'>' Büyüktür\n",
        "\n",
        "<= Küçük Eşittir\n",
        "\n",
        "'>=' Büyük Eşittir\n",
        "\n",
        "== Eşittir\n",
        "\n",
        "!= Eşit Değildir\n",
        "\n"
      ],
      "metadata": {
        "id": "6Cj1hCPP5k0F"
      }
    },
    {
      "cell_type": "code",
      "source": [
        "a = 29\n",
        "b= 13\n",
        "\n",
        "print(a < b)\n",
        "print(a > b)"
      ],
      "metadata": {
        "colab": {
          "base_uri": "https://localhost:8080/"
        },
        "id": "ZLq-Gv7V6ABy",
        "outputId": "2a63d2bb-7fb6-4a3e-fe72-8b69068f9fb4"
      },
      "execution_count": null,
      "outputs": [
        {
          "output_type": "stream",
          "name": "stdout",
          "text": [
            "False\n",
            "True\n"
          ]
        }
      ]
    },
    {
      "cell_type": "code",
      "source": [],
      "metadata": {
        "id": "sOyBSJdL65T4"
      },
      "execution_count": null,
      "outputs": []
    }
  ]
}