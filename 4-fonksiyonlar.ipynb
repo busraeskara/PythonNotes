{
 "cells": [
  {
   "cell_type": "markdown",
   "metadata": {},
   "source": [
    "**Fonksiyonlar**\n",
    "\n",
    "Sürekli tekrarlanması gereken işlemlerde aynı kodu tekrar tekrar yazmadan aynı işlevi birden çok kez gerçekleyebildiğimiz durumlarda kullanılır.\n",
    "\n",
    "def anahtar kelimesi ile oluşturulur.\n",
    "\n",
    "def function_name(required)\n",
    "    return (optional)"
   ]
  },
  {
   "cell_type": "markdown",
   "metadata": {},
   "source": [
    "* Parametreli\n",
    "* Parametresiz"
   ]
  },
  {
   "cell_type": "code",
   "execution_count": 1,
   "metadata": {},
   "outputs": [
    {
     "name": "stdout",
     "output_type": "stream",
     "text": [
      "Hoş geldiniz!\n"
     ]
    }
   ],
   "source": [
    "def selamla():\n",
    "    print(\"Hoş geldiniz!\")\n",
    "\n",
    "selamla()"
   ]
  },
  {
   "cell_type": "code",
   "execution_count": 4,
   "metadata": {},
   "outputs": [
    {
     "name": "stdout",
     "output_type": "stream",
     "text": [
      "Hoş geldin Büşra!\n"
     ]
    }
   ],
   "source": [
    "def selamla(name):\n",
    "    print(f\"Hoş geldin {name}!\")\n",
    "\n",
    "selamla(\"Büşra\")"
   ]
  },
  {
   "cell_type": "code",
   "execution_count": 5,
   "metadata": {},
   "outputs": [
    {
     "name": "stdout",
     "output_type": "stream",
     "text": [
      "Sonuç:  13\n"
     ]
    }
   ],
   "source": [
    "# bu örnekte gereksiz yere num3 ve result değişkenlerini hafizada tutmuş olduk.\n",
    "\n",
    "def add(num1, num2):\n",
    "    num3 = num1 + num2\n",
    "    return num3\n",
    "\n",
    "result = add(4, 9)\n",
    "print(\"Sonuç: \", result)"
   ]
  },
  {
   "cell_type": "code",
   "execution_count": 6,
   "metadata": {},
   "outputs": [
    {
     "name": "stdout",
     "output_type": "stream",
     "text": [
      "Sonuç:  13\n"
     ]
    }
   ],
   "source": [
    "# bu şekilde yazım şekli daha güzel\n",
    "\n",
    "def add(num1 ,num2):\n",
    "    return num1 + num2\n",
    "\n",
    "print(\"Sonuç: \", add(4 , 9))"
   ]
  },
  {
   "cell_type": "markdown",
   "metadata": {},
   "source": [
    "Modülün import edilmesi ile beraber fonksiyon kullanımı"
   ]
  },
  {
   "cell_type": "code",
   "execution_count": 9,
   "metadata": {},
   "outputs": [
    {
     "name": "stdout",
     "output_type": "stream",
     "text": [
      "73\n"
     ]
    }
   ],
   "source": [
    "import random\n",
    "\n",
    "print(random.randint(10, 200))"
   ]
  },
  {
   "cell_type": "code",
   "execution_count": 10,
   "metadata": {},
   "outputs": [
    {
     "name": "stdout",
     "output_type": "stream",
     "text": [
      "128\n"
     ]
    }
   ],
   "source": [
    "from random import randint\n",
    "\n",
    "print(randint(10, 200))"
   ]
  },
  {
   "cell_type": "markdown",
   "metadata": {},
   "source": [
    "**Birden fazla dönüş**"
   ]
  },
  {
   "cell_type": "code",
   "execution_count": 14,
   "metadata": {},
   "outputs": [
    {
     "name": "stdout",
     "output_type": "stream",
     "text": [
      "İki değerin;\n",
      "Toplamı: 15\n",
      "Farkı: 9\n",
      "Çarpımı: 36\n",
      "Bölümü: 4.0\n"
     ]
    }
   ],
   "source": [
    "def calculater(num1, num2):\n",
    "    add = num1+ num2\n",
    "    sub = num1 - num2\n",
    "    multiply = num1 * num2\n",
    "    division = num1 / num2\n",
    "\n",
    "    return add, sub, multiply, division\n",
    "\n",
    "a, b, c, d = calculater(12, 3) #fonksiyonun dört dönüş değeri var. bu sebeple a,b,c,d şeklinde atama yapabiliyoruz.\n",
    "print(f\"İki değerin;\\nToplamı: {a}\\nFarkı: {b}\\nÇarpımı: {c}\\nBölümü: {d}\")"
   ]
  },
  {
   "cell_type": "markdown",
   "metadata": {},
   "source": [
    "Fonksiyonlar içerisinde değişkenlerin kapsamı\n",
    "\n",
    "* Local (Yerel) Değişken: Fonks dışında kullanılmaz. Sadece fonks ve metot içinden erişilir.\n",
    "* Global Değişken: Her yerden erişilebilir"
   ]
  },
  {
   "cell_type": "code",
   "execution_count": 21,
   "metadata": {},
   "outputs": [
    {
     "name": "stdout",
     "output_type": "stream",
     "text": [
      "Fonksiyon içerisinde  Local\n",
      "Fonksiyon içerisinde  Global\n",
      "Fonksiyon dışında  Global\n"
     ]
    }
   ],
   "source": [
    "global_variable = \"Global\"\n",
    "\n",
    "def func():\n",
    "    local_variable = \"Local\"\n",
    "    print(\"Fonksiyon içerisinde \", local_variable)\n",
    "    print(\"Fonksiyon içerisinde \", global_variable)\n",
    "\n",
    "func()\n",
    "print(\"Fonksiyon dışında \", global_variable)\n",
    "# print(\"Fonksiyon dışında \", local_variable) : hata verir"
   ]
  },
  {
   "cell_type": "code",
   "execution_count": 23,
   "metadata": {},
   "outputs": [
    {
     "name": "stdout",
     "output_type": "stream",
     "text": [
      "9\n",
      "4\n",
      "9\n"
     ]
    }
   ],
   "source": [
    "a = 9\n",
    "\n",
    "def print1():\n",
    "    print(a) # global\n",
    "\n",
    "def print2():\n",
    "    a = 4    # yerel  \n",
    "    print(a)\n",
    "\n",
    "def print3():\n",
    "    print(a) # global\n",
    "\n",
    "print1()\n",
    "print2()\n",
    "print3()"
   ]
  },
  {
   "cell_type": "code",
   "execution_count": 26,
   "metadata": {},
   "outputs": [
    {
     "name": "stdout",
     "output_type": "stream",
     "text": [
      "9\n",
      "4\n",
      "4\n"
     ]
    }
   ],
   "source": [
    "a = 9\n",
    "\n",
    "def print1():\n",
    "    print(a) # global\n",
    "\n",
    "def print2():\n",
    "    global a\n",
    "    a = 4    # global  \n",
    "    print(a)\n",
    "\n",
    "def print3():\n",
    "    print(a) # global\n",
    "\n",
    "print1()\n",
    "print2()\n",
    "print3()"
   ]
  },
  {
   "cell_type": "markdown",
   "metadata": {},
   "source": [
    "**Default Parametre Tanımlama**"
   ]
  },
  {
   "cell_type": "code",
   "execution_count": 30,
   "metadata": {},
   "outputs": [
    {
     "name": "stdout",
     "output_type": "stream",
     "text": [
      "Hoş geldin  Büşra\n",
      "Hoş geldin  Sisterslab\n"
     ]
    }
   ],
   "source": [
    "def say_hello(name = \"Sisterslab\"):\n",
    "    print(\"Hoş geldin \", name)\n",
    "\n",
    "say_hello(\"Büşra\")\n",
    "say_hello() # herhangi bi değer göndermiyorsa Büşra gibi, name değişkeninin deafult aldğı sisterslab ı alacak direkt"
   ]
  },
  {
   "cell_type": "code",
   "execution_count": 33,
   "metadata": {},
   "outputs": [
    {
     "name": "stdout",
     "output_type": "stream",
     "text": [
      "Gamze adlı personel 27 yaşında. Maaşı: 10000\n",
      "Zehra adlı personel 25 yaşında. Maaşı: 5000\n"
     ]
    }
   ],
   "source": [
    "def person(name, age, salary = 5000):\n",
    "    print(f\"{name} adlı personel {age} yaşında. Maaşı: {salary}\")\n",
    "\n",
    "person(\"Gamze\", 27, 10000)\n",
    "person(\"Zehra\", 25) # salary değişkenini deafult olarak aldı."
   ]
  },
  {
   "cell_type": "code",
   "execution_count": 34,
   "metadata": {},
   "outputs": [
    {
     "name": "stdout",
     "output_type": "stream",
     "text": [
      "Toplam:  0\n",
      "Toplam:  19\n",
      "Toplam:  110.6\n"
     ]
    }
   ],
   "source": [
    "def add(*numbers):\n",
    "    total = 0\n",
    "    for i in numbers:\n",
    "        total += i\n",
    "    print(\"Toplam: \", total)\n",
    "\n",
    "add() # 0 argument\n",
    "add(1, 4, 6, 8) # 4 argument\n",
    "add(13.6, 7, 90) # 3 değer aldı\n"
   ]
  },
  {
   "cell_type": "code",
   "execution_count": 37,
   "metadata": {},
   "outputs": [
    {
     "name": "stdout",
     "output_type": "stream",
     "text": [
      "3 ile 17 değerleri arasındaki çift sayıların ortalaması:  10.0\n"
     ]
    }
   ],
   "source": [
    "# Kullanıcının girdiği iki sayı arasındaki \n",
    "# çift sayıları bulup ortalamasını alan bir fonksiyon yazalım.\n",
    "\n",
    "def isEven(num):\n",
    "    return num % 2 == 0\n",
    "\n",
    "baslangic = int(input(\"Başlangıç Değeri: \"))\n",
    "bitis = int(input(\"Bitiş Değeri: \"))\n",
    "\n",
    "total = count = 0\n",
    "\n",
    "for item in range(baslangic, bitis):\n",
    "    if isEven(item):\n",
    "        total += item\n",
    "        count += 1\n",
    "\n",
    "print(f\"{baslangic} ile {bitis} değerleri arasındaki çift sayıların ortalaması: \", total/count)\n"
   ]
  },
  {
   "cell_type": "code",
   "execution_count": 39,
   "metadata": {},
   "outputs": [
    {
     "name": "stdout",
     "output_type": "stream",
     "text": [
      "False\n",
      "True\n"
     ]
    }
   ],
   "source": [
    "# Bir sayının asal olup olmadığını dönen fonksiyonu yazaylım.\n",
    "\n",
    "def asal(number):\n",
    "    result = True\n",
    "    for i in range(2, number):\n",
    "        if number % i == 0:\n",
    "            result = False\n",
    "            break\n",
    "    return result\n",
    "\n",
    "# print(asal(15))\n",
    "print(asal(17))"
   ]
  },
  {
   "cell_type": "code",
   "execution_count": null,
   "metadata": {},
   "outputs": [],
   "source": [
    "# sayı tahmin oyunu\n",
    "# bilg a karşı olan\n",
    "# taş kağıt makas oyunu\n",
    "# modül tanımlaması vs\n",
    "#listeler"
   ]
  },
  {
   "cell_type": "markdown",
   "metadata": {},
   "source": [
    "**Sayı Tahmin Oyunu**\n",
    "\n",
    "* Random modülü ile bir sayı alınır\n",
    "* guess adından bir fonksiyon yazılacak\n",
    "* input ile kullanıcıdan tahminde bulunması istenip ardından yönlendirmeler yapılacak"
   ]
  },
  {
   "cell_type": "code",
   "execution_count": 1,
   "metadata": {},
   "outputs": [
    {
     "name": "stdout",
     "output_type": "stream",
     "text": [
      "Üzgünüm, daha küçük bir tahminde bulunmalısın.\n",
      "Üzgünüm, daha küçük bir tahminde bulunmalısın.\n",
      "Üzgünüm, daha büyük bir tahminde bulunmalısın.\n",
      "Üzgünüm, daha büyük bir tahminde bulunmalısın.\n",
      "Tebrikler, doğru tahmin!\n"
     ]
    }
   ],
   "source": [
    "from random import randint\n",
    "\n",
    "def guess(number):\n",
    "    user_number = int(input(\"Sayı tahmin oyunu için 1-100 arasında bir tahminde bulun: \"))\n",
    "    while number != user_number:\n",
    "        if number < user_number:\n",
    "            print(\"Üzgünüm, daha küçük bir tahminde bulunmalısın.\")\n",
    "        else:\n",
    "            print(\"Üzgünüm, daha büyük bir tahminde bulunmalısın.\")\n",
    "        user_number = int(input(\"Lütfen, yeniden bir tahminde bulunun.\"))\n",
    "    else:\n",
    "        print(\"Tebrikler, doğru tahmin!\")\n",
    "\n",
    "guess(randint(1, 100))"
   ]
  },
  {
   "cell_type": "code",
   "execution_count": 3,
   "metadata": {},
   "outputs": [
    {
     "name": "stdout",
     "output_type": "stream",
     "text": [
      "Tebrikler, doğru tahmin!\n"
     ]
    }
   ],
   "source": [
    "import random\n",
    "\n",
    "def computer_guess(x):\n",
    "    start = 1\n",
    "    end = 100\n",
    "    result = \"\" # küçük büyük kısmı beliritlecek\n",
    "\n",
    "    while result != \"d\": # result değeri doğrudan farklı olduğu sürece devam et\n",
    "        guess = random.randint(start, end)\n",
    "\n",
    "        result = input(f\"{guess} değeri aklından tuttuğun değerden büyükse (b), küçükse (k), doğruysa (d) giriniz.\").lower()\n",
    "        if result == \"b\":\n",
    "            end = guess -1 \n",
    "        elif result == \"k\":\n",
    "            start = guess + 1\n",
    "    print(\"Tebrikler, doğru tahmin!\")\n",
    "    \n",
    "computer_guess(19)"
   ]
  },
  {
   "cell_type": "markdown",
   "metadata": {},
   "source": [
    "**Taş, Kağıt, Makas Oyunu Kuralları**\n",
    "\n",
    "* Kağıt taşı yener\n",
    "* Taş makası yener\n",
    "* Makas kağıdı yener\n"
   ]
  },
  {
   "cell_type": "code",
   "execution_count": 14,
   "metadata": {},
   "outputs": [
    {
     "name": "stdout",
     "output_type": "stream",
     "text": [
      "Taş, Kağıt, Makas Oyununa Hoş geldiniz!\n",
      "---------------------------------------\n",
      "\n",
      "1 - Taş\n",
      "2 - Kağıt\n",
      "3 - Makas\n",
      "Oyundan çıkmak isterseniz bu değerler dışında bir değer giriniz.\n",
      "Bilgisayarın Seçimi: 3\n",
      "\n",
      " Kazanan: Kullanıcı\n",
      "\n",
      "1 - Taş\n",
      "2 - Kağıt\n",
      "3 - Makas\n",
      "Oyundan çıkmak isterseniz bu değerler dışında bir değer giriniz.\n",
      "Beraber, yeniden oynayınız.\n",
      "\n",
      "1 - Taş\n",
      "2 - Kağıt\n",
      "3 - Makas\n",
      "Oyundan çıkmak isterseniz bu değerler dışında bir değer giriniz.\n",
      "Bilgisayarın Seçimi: 3\n",
      "\n",
      " Kazanan: Kullanıcı\n",
      "\n",
      "1 - Taş\n",
      "2 - Kağıt\n",
      "3 - Makas\n",
      "Oyundan çıkmak isterseniz bu değerler dışında bir değer giriniz.\n"
     ]
    },
    {
     "ename": "ValueError",
     "evalue": "invalid literal for int() with base 10: 'n'",
     "output_type": "error",
     "traceback": [
      "\u001b[1;31m---------------------------------------------------------------------------\u001b[0m",
      "\u001b[1;31mValueError\u001b[0m                                Traceback (most recent call last)",
      "Cell \u001b[1;32mIn [14], line 15\u001b[0m\n\u001b[0;32m     13\u001b[0m \u001b[38;5;28;01mwhile\u001b[39;00m \u001b[38;5;28;01mTrue\u001b[39;00m: \u001b[38;5;66;03m# kullanıcı farklı bir değer girene kadar while döngüsü devam etsin istiyoruz.\u001b[39;00m\n\u001b[0;32m     14\u001b[0m     \u001b[38;5;28mprint\u001b[39m(\u001b[38;5;124m\"\u001b[39m\u001b[38;5;130;01m\\n\u001b[39;00m\u001b[38;5;124m1 - Taş\u001b[39m\u001b[38;5;130;01m\\n\u001b[39;00m\u001b[38;5;124m2 - Kağıt\u001b[39m\u001b[38;5;130;01m\\n\u001b[39;00m\u001b[38;5;124m3 - Makas\u001b[39m\u001b[38;5;130;01m\\n\u001b[39;00m\u001b[38;5;124mOyundan çıkmak isterseniz bu değerler dışında bir değer giriniz.\u001b[39m\u001b[38;5;124m\"\u001b[39m)\n\u001b[1;32m---> 15\u001b[0m     player_choice \u001b[38;5;241m=\u001b[39m \u001b[38;5;28mint\u001b[39m(\u001b[38;5;28minput\u001b[39m(\u001b[38;5;124m\"\u001b[39m\u001b[38;5;124mSeçiminizi yapınız.\u001b[39m\u001b[38;5;124m\"\u001b[39m)) \u001b[38;5;66;03m#kullanıcının seçimi\u001b[39;00m\n\u001b[0;32m     16\u001b[0m     computer_choice \u001b[38;5;241m=\u001b[39m random\u001b[38;5;241m.\u001b[39mchoice([\u001b[38;5;241m1\u001b[39m, \u001b[38;5;241m2\u001b[39m, \u001b[38;5;241m3\u001b[39m]) \u001b[38;5;66;03m# bilgisayarın seçimi # 1,2,3 değerşer arasından bir değeri seçiyor choice metodu ile\u001b[39;00m\n\u001b[0;32m     18\u001b[0m     \u001b[38;5;28;01mif\u001b[39;00m player_choice \u001b[38;5;241m==\u001b[39m computer_choice:\n",
      "\u001b[1;31mValueError\u001b[0m: invalid literal for int() with base 10: 'n'"
     ]
    }
   ],
   "source": [
    "import random\n",
    "\n",
    "player_score = computer_score = 0\n",
    "\n",
    "def print_result(comp_choice, winner):\n",
    "    print(f\"Bilgisayarın Seçimi: {comp_choice}\\n\\n Kazanan: {winner}\")\n",
    "   \n",
    "\n",
    "print(\"Taş, Kağıt, Makas Oyununa Hoş geldiniz!\\n\" + \"-\"*39)\n",
    "\n",
    "while True: # kullanıcı farklı bir değer girene kadar while döngüsü devam etsin istiyoruz.\n",
    "    print(\"\\n1 - Taş\\n2 - Kağıt\\n3 - Makas\\nOyundan çıkmak isterseniz bu değerler dışında bir değer giriniz.\")\n",
    "    player_choice = int(input(\"Seçiminizi yapınız.\")) #kullanıcının seçimi\n",
    "    computer_choice = random.choice([1, 2, 3]) # bilgisayarın seçimi # 1,2,3 değerşer arasından bir değeri seçiyor choice metodu ile\n",
    "    \n",
    "    if player_choice == computer_choice:\n",
    "        print(\"Beraber, yeniden oynayınız.\")\n",
    "    elif player_choice == 1:\n",
    "        if computer_choice == 2:\n",
    "            print_result(computer_choice, \"Bilgisayar\")\n",
    "            computer_score += 100\n",
    "        elif computer_choice == 3:\n",
    "            print_result(computer_choice, \"Kullanıcı\")\n",
    "            player_score += 100\n",
    "\n",
    "    elif player_choice == 2:\n",
    "        if computer_choice == 1:\n",
    "            print_result(computer_choice, \"Kullanıcı\")\n",
    "            player_score += 100\n",
    "        elif computer_choice == 3:\n",
    "            print_result(computer_choice, \"Bilgisayar\")\n",
    "            computer_score += 100\n",
    "\n",
    "    elif player_choice == 3:\n",
    "        if computer_choice == 1:\n",
    "            print_result(computer_choice, \"Bilgisayar\")\n",
    "            computer_score += 100\n",
    "        elif computer_choice == 2:\n",
    "            print_result(computer_choice, \"Kullanıcı\")\n",
    "            player_score += 100\n",
    "    else:\n",
    "        break\n",
    "\n",
    "print(f\"\\n\\nKullanıcı skoru {player_score} - Bilgisayarın skoru {computer_score} \")"
   ]
  },
  {
   "cell_type": "code",
   "execution_count": null,
   "metadata": {},
   "outputs": [],
   "source": [
    "# hocanın yazdığı\n",
    "\n",
    "import random\n",
    "player_score = computer_score = 0\n",
    "def print_result(comp_choice, winner):\n",
    "    print(f\"Bilgisayarın Seçimi: {comp_choice}\\n\\nKazanan: {winner}\")\n",
    "print(\"Taş Kağıt Makas Oyununa Hoş geldiniz!\\n\" + \"-\"*37)\n",
    "while True:\n",
    "    print(\"\\n1 - Taş\\n2 - Kağıt \\n3 - Makas\\nOyundan çıkmak isterseniz bu değerler dışında bir değer giriniz\")\n",
    "    player_choice = int(input(\"Seçiminizi yapınız\"))\n",
    "    computer_choice = random.choice([1, 2, 3])\n",
    "    if player_choice == computer_choice:\n",
    "        print(\"Beraber, yeniden oynayınız\")\n",
    "    elif player_choice == 1:\n",
    "        if computer_choice == 2:\n",
    "            print_result(computer_choice, \"Bilgisayar\")\n",
    "            computer_score += 100\n",
    "        elif computer_choice == 3:\n",
    "            print_result(computer_choice, \"Kullanıcı\")\n",
    "            player_score += 100\n",
    "    elif player_choice == 2:\n",
    "        if computer_choice == 1:\n",
    "            print_result(computer_choice, \"Kullanıcı\")\n",
    "            player_score += 100\n",
    "        elif computer_choice == 3:\n",
    "            print_result(computer_choice, \"Bilgisayar\")\n",
    "            computer_score += 100\n",
    "    elif player_choice == 3:\n",
    "        if computer_choice == 1:\n",
    "            print_result(computer_choice, \"Bilgisayar\")\n",
    "            computer_score += 100\n",
    "        elif computer_choice == 2:\n",
    "            print_result(computer_choice, \"Kullanıcı\")\n",
    "            player_score += 100\n",
    "    else:\n",
    "        break\n",
    "print(f\"\\n\\nKullanıcı skoru {player_score} - Bilgisayarın skoru {computer_score}\")\n",
    "\n",
    "if player_score > computer_score: print(\"Kazanan Kullanıcı\")\n",
    "elif player_score < computer_score: print(\"Kazanan Bilgisayar\")\n",
    "else: print(\"Oyun Berabere\")"
   ]
  },
  {
   "cell_type": "code",
   "execution_count": null,
   "metadata": {},
   "outputs": [],
   "source": [
    "import random\n",
    "player_score = computer_score = 0\n",
    "computer_choice = 0\n",
    "def print_result(winner = \"Bilgisayar\"):\n",
    "    print(f\"Bilgisayarın Seçimi: {computer_choice}\\n\\nKazanan: {winner}\")\n",
    "    global player_score, computer_score\n",
    "    if winner == \"Bilgisayar\":\n",
    "        computer_score += 100\n",
    "    else:\n",
    "        player_score += 100\n",
    "print(\"Taş Kağıt Makas Oyununa Hoş geldiniz!\\n\" + \"-\"*37)\n",
    "while True:\n",
    "    print(\"\\n1 - Taş\\n2 - Kağıt \\n3 - Makas\\nOyundan çıkmak isterseniz bu değerler dışında bir değer giriniz\")\n",
    "    player_choice = int(input(\"Seçiminizi yapınız\"))\n",
    "    computer_choice = random.choice([1, 2, 3])\n",
    "    if player_choice == computer_choice:\n",
    "        print(\"Beraber, yeniden oynayınız\")\n",
    "    elif player_choice == 1:\n",
    "        if computer_choice == 2:\n",
    "            print_result()\n",
    "        elif computer_choice == 3:\n",
    "            print_result(\"Kullanıcı\")\n",
    "    elif player_choice == 2:\n",
    "        if computer_choice == 1:\n",
    "            print_result(\"Kullanıcı\")\n",
    "        elif computer_choice == 3:\n",
    "            print_result()\n",
    "    elif player_choice == 3:\n",
    "        if computer_choice == 1:\n",
    "            print_result()\n",
    "        elif computer_choice == 2:\n",
    "            print_result(\"Kullanıcı\")\n",
    "    else:\n",
    "        break\n",
    "print(f\"\\n\\nKullanıcı skoru {player_score} - Bilgisayarın skoru {computer_score}\")\n",
    "if player_score > computer_score: print(\"Kazanan Kullanıcı\")\n",
    "elif player_score < computer_score: print(\"Kazanan Bilgisayar\")\n",
    "else: print(\"Oyun Berabere\")"
   ]
  },
  {
   "cell_type": "markdown",
   "metadata": {},
   "source": []
  }
 ],
 "metadata": {
  "kernelspec": {
   "display_name": "Python 3.9.6 64-bit",
   "language": "python",
   "name": "python3"
  },
  "language_info": {
   "codemirror_mode": {
    "name": "ipython",
    "version": 3
   },
   "file_extension": ".py",
   "mimetype": "text/x-python",
   "name": "python",
   "nbconvert_exporter": "python",
   "pygments_lexer": "ipython3",
   "version": "3.9.6"
  },
  "orig_nbformat": 4,
  "vscode": {
   "interpreter": {
    "hash": "f6246b25e200e4c5124e3e61789ac81350562f0761bbcf92ad9e48654207659c"
   }
  }
 },
 "nbformat": 4,
 "nbformat_minor": 2
}
