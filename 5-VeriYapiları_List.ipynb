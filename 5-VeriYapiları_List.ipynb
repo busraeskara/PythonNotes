{
 "cells": [
  {
   "cell_type": "markdown",
   "metadata": {},
   "source": [
    "**Veri Yapıları**\n",
    "* List\n",
    "* Tuple\n",
    "* Set\n",
    "* Dictionary"
   ]
  },
  {
   "cell_type": "markdown",
   "metadata": {},
   "source": [
    "**Lİsteler**\n",
    "\n",
    "* index ile erişilebilir, ordered yani sıralıdır.\n",
    "* mutable (değiştirilebilir) yani liste içine eklenen bir veri değiştirilebilir.\n",
    "* [ ] şeklinde tanımlanır. Liste elemanları virgül ile ayrılır.\n",
    "* Farklı tipte veri içerebilir.\n",
    "* Aynı değerlere sahip iki elemana sahip olabilir. Duplicate veri barındırabilir."
   ]
  },
  {
   "cell_type": "code",
   "execution_count": 1,
   "metadata": {},
   "outputs": [],
   "source": [
    "list_int = [1, 6, 8, 4, -1, 1]\n",
    "list_string = [\"Aysel\", \"Melisa\", \"Büşra\", \"Sude\", \"Büşra\"]\n",
    "list_bool = [True, False]\n",
    "list_float = [1.2, 4.5, 13.6]\n",
    "\n",
    "list_mix = [\"Büşra\", 23, 12000, True, 13.4]"
   ]
  },
  {
   "cell_type": "markdown",
   "metadata": {},
   "source": [
    "Elemanlara index ile erişim"
   ]
  },
  {
   "cell_type": "code",
   "execution_count": 8,
   "metadata": {},
   "outputs": [
    {
     "name": "stdout",
     "output_type": "stream",
     "text": [
      "['Büşra', 23, 12000, True, 13.4]\n",
      "\n",
      "Pozitif indexler ile erişim:\n",
      "0. index değeri:  Büşra\n",
      "1. index değeri:  23\n",
      "2. index değeri:  12000\n",
      "\n",
      "Negatif indexler ile erişim:\n",
      "-1. index değeri:  13.4\n",
      "-2. index değeri:  True\n",
      "-3. index değeri:  12000\n"
     ]
    }
   ],
   "source": [
    "print(list_mix)\n",
    "print(\"\\nPozitif indexler ile erişim:\")\n",
    "print(\"0. index değeri: \", list_mix[0])\n",
    "print(\"1. index değeri: \", list_mix[1])\n",
    "print(\"2. index değeri: \", list_mix[2])\n",
    "\n",
    "print(\"\\nNegatif indexler ile erişim:\")\n",
    "print(\"-1. index değeri: \", list_mix[-1])\n",
    "print(\"-2. index değeri: \", list_mix[-2])\n",
    "print(\"-3. index değeri: \", list_mix[-3])"
   ]
  },
  {
   "cell_type": "code",
   "execution_count": 10,
   "metadata": {},
   "outputs": [],
   "source": [
    "# list_mix[7] :  hata verir! 7. index olmadığı için"
   ]
  },
  {
   "cell_type": "code",
   "execution_count": 12,
   "metadata": {},
   "outputs": [],
   "source": [
    "# list_mix[2.3] : hata verir!"
   ]
  },
  {
   "cell_type": "markdown",
   "metadata": {},
   "source": [
    "Listelerde uzunluk\n"
   ]
  },
  {
   "cell_type": "code",
   "execution_count": 14,
   "metadata": {},
   "outputs": [
    {
     "name": "stdout",
     "output_type": "stream",
     "text": [
      "['Büşra', 23, 12000, True, 13.4]\n",
      "Listemizin uzunluğu:  5\n"
     ]
    }
   ],
   "source": [
    "print(list_mix)\n",
    "print(\"Listemizin uzunluğu: \", len(list_mix))"
   ]
  },
  {
   "cell_type": "markdown",
   "metadata": {},
   "source": [
    "Slicing"
   ]
  },
  {
   "cell_type": "code",
   "execution_count": 8,
   "metadata": {},
   "outputs": [
    {
     "name": "stdout",
     "output_type": "stream",
     "text": [
      "['Büşra', 23, 'AI & ML Engineer', True, 12000.48, 'Menekşe', 'Zeynep', 'Yağmur']\n"
     ]
    }
   ],
   "source": [
    "my_list = [\"Büşra\", 23, \"AI & ML Engineer\", True, 12000.48, \"Menekşe\", \"Zeynep\", \"Yağmur\"]\n",
    "\n",
    "print(my_list)"
   ]
  },
  {
   "cell_type": "code",
   "execution_count": 9,
   "metadata": {},
   "outputs": [
    {
     "name": "stdout",
     "output_type": "stream",
     "text": [
      "['Büşra', 23, 'AI & ML Engineer', True]\n"
     ]
    }
   ],
   "source": [
    "# ilk dört elemanı ekrana basalım\n",
    "\n",
    "print(my_list[0:4])"
   ]
  },
  {
   "cell_type": "code",
   "execution_count": 10,
   "metadata": {},
   "outputs": [
    {
     "name": "stdout",
     "output_type": "stream",
     "text": [
      "['Büşra', 'AI & ML Engineer', 12000.48, 'Zeynep']\n"
     ]
    }
   ],
   "source": [
    "# her iki elemanda bir atlayrak ekrana bas\n",
    "\n",
    "print(my_list[::2])"
   ]
  },
  {
   "cell_type": "code",
   "execution_count": 11,
   "metadata": {},
   "outputs": [
    {
     "name": "stdout",
     "output_type": "stream",
     "text": [
      "['AI & ML Engineer', True, 12000.48]\n"
     ]
    }
   ],
   "source": [
    "# 2 ile 5 index aralığındaki elemanları basalım\n",
    "\n",
    "print(my_list[2:5])"
   ]
  },
  {
   "cell_type": "code",
   "execution_count": 12,
   "metadata": {},
   "outputs": [
    {
     "name": "stdout",
     "output_type": "stream",
     "text": [
      "['Yağmur', 'Zeynep', 'Menekşe', 12000.48, True, 'AI & ML Engineer', 23, 'Büşra']\n"
     ]
    }
   ],
   "source": [
    "# Listeyi tersten yazdırma\n",
    "\n",
    "print(my_list[::-1])"
   ]
  },
  {
   "cell_type": "markdown",
   "metadata": {},
   "source": [
    "Döngüler ile listenin elemanlarını ekrana yazdırma"
   ]
  },
  {
   "cell_type": "code",
   "execution_count": 14,
   "metadata": {},
   "outputs": [
    {
     "name": "stdout",
     "output_type": "stream",
     "text": [
      "Emel\n",
      "23\n",
      "AI & ML Engineer\n",
      "True\n",
      "12000.48\n",
      "Menekşe\n",
      "Zeynep\n",
      "Yağmur\n"
     ]
    }
   ],
   "source": [
    "my_list = [\"Emel\", 23, \"AI & ML Engineer\", True, 12000.48, \"Menekşe\", \"Zeynep\", \"Yağmur\"]\n",
    "\n",
    "for item in my_list: # oluşturduğumuz listenin içinde dolaştı ve listedeki elemanları ekrana yazdırdı.\n",
    "    print(item)"
   ]
  },
  {
   "cell_type": "markdown",
   "metadata": {},
   "source": [
    "Elemanları yan yana gösterelim"
   ]
  },
  {
   "cell_type": "code",
   "execution_count": 16,
   "metadata": {},
   "outputs": [
    {
     "name": "stdout",
     "output_type": "stream",
     "text": [
      "Emel  -  23  -  AI & ML Engineer  -  True  -  12000.48  -  Menekşe  -  Zeynep  -  Yağmur  -  "
     ]
    }
   ],
   "source": [
    "for item in my_list:\n",
    "    print(item, end=\"  -  \") # elemanların arasına boşluk ve - ekleyerek yan yana yazdırıyor."
   ]
  },
  {
   "cell_type": "markdown",
   "metadata": {},
   "source": [
    "indexler üzerinden erişim"
   ]
  },
  {
   "cell_type": "code",
   "execution_count": 19,
   "metadata": {},
   "outputs": [
    {
     "name": "stdout",
     "output_type": "stream",
     "text": [
      "0\n",
      "1\n",
      "2\n",
      "3\n",
      "4\n",
      "5\n",
      "6\n",
      "7\n"
     ]
    }
   ],
   "source": [
    "for i in range(0, len(my_list)):\n",
    "    print(i)"
   ]
  },
  {
   "cell_type": "code",
   "execution_count": 20,
   "metadata": {},
   "outputs": [
    {
     "name": "stdout",
     "output_type": "stream",
     "text": [
      "Emel\n",
      "23\n",
      "AI & ML Engineer\n",
      "True\n",
      "12000.48\n",
      "Menekşe\n",
      "Zeynep\n",
      "Yağmur\n"
     ]
    }
   ],
   "source": [
    "for i in range(0, len(my_list)):\n",
    "    print(my_list[i])"
   ]
  },
  {
   "cell_type": "code",
   "execution_count": 21,
   "metadata": {},
   "outputs": [
    {
     "name": "stdout",
     "output_type": "stream",
     "text": [
      "0. index değeri: Emel\n",
      "1. index değeri: 23\n",
      "2. index değeri: AI & ML Engineer\n",
      "3. index değeri: True\n",
      "4. index değeri: 12000.48\n",
      "5. index değeri: Menekşe\n",
      "6. index değeri: Zeynep\n",
      "7. index değeri: Yağmur\n"
     ]
    }
   ],
   "source": [
    "for i in range(0, len(my_list)):\n",
    "    print(f\"{i}. index değeri: {my_list[i]}\")"
   ]
  },
  {
   "cell_type": "markdown",
   "metadata": {},
   "source": [
    "Listelere Eleman Ekleme\n",
    "\n",
    "* append()\n",
    "* insert()\n",
    "* extend()"
   ]
  },
  {
   "cell_type": "markdown",
   "metadata": {},
   "source": [
    "append() -> Listenin sonuna eklenir."
   ]
  },
  {
   "cell_type": "code",
   "execution_count": 34,
   "metadata": {},
   "outputs": [
    {
     "name": "stdout",
     "output_type": "stream",
     "text": [
      "['Emel', 23, 'AI & ML Engineer', True, 12000.48, 'Menekşe', 'Zeynep', 'Yağmur']\n",
      "['Emel', 23, 'AI & ML Engineer', True, 12000.48, 'Menekşe', 'Zeynep', 'Yağmur', 'Zekiye']\n"
     ]
    }
   ],
   "source": [
    "my_list = [\"Emel\", 23, \"AI & ML Engineer\", True, 12000.48, \"Menekşe\", \"Zeynep\", \"Yağmur\"]\n",
    "print(my_list)\n",
    "\n",
    "my_list.append(\"Zekiye\")\n",
    "print(my_list)\n"
   ]
  },
  {
   "cell_type": "markdown",
   "metadata": {},
   "source": [
    "insert() -> istenen indexte konumlandırma yapar"
   ]
  },
  {
   "cell_type": "code",
   "execution_count": 28,
   "metadata": {},
   "outputs": [
    {
     "name": "stdout",
     "output_type": "stream",
     "text": [
      "['Emel', 23, 'AI & ML Engineer', True, 12000.48, 'Menekşe', 'Zeynep', 'Yağmur', 'Zekiye']\n",
      "['Mine', 'Emel', 23, 'AI & ML Engineer', True, 12000.48, 'Menekşe', 'Zeynep', 'Yağmur', 'Zekiye']\n"
     ]
    }
   ],
   "source": [
    "print(my_list)\n",
    "\n",
    "my_list.insert(0, \"Mine\")\n",
    "print(my_list)"
   ]
  },
  {
   "cell_type": "code",
   "execution_count": 29,
   "metadata": {},
   "outputs": [
    {
     "name": "stdout",
     "output_type": "stream",
     "text": [
      "['Emel', 23, 'AI & ML Engineer', True, 12000.48, 'Menekşe', 'Zeynep', 'Yağmur']\n",
      "['Emel', 23, 'Mine', 'AI & ML Engineer', True, 12000.48, 'Menekşe', 'Zeynep', 'Yağmur']\n"
     ]
    }
   ],
   "source": [
    "my_list = [\"Emel\", 23, \"AI & ML Engineer\", True, 12000.48, \"Menekşe\", \"Zeynep\", \"Yağmur\"]\n",
    "print(my_list)\n",
    "\n",
    "my_list.insert(2, \"Mine\")\n",
    "print(my_list)\n"
   ]
  },
  {
   "cell_type": "markdown",
   "metadata": {},
   "source": [
    "extend() -> Listenin sonuna ekleme yapar. Birden fazla eleman eklemeye izin verir."
   ]
  },
  {
   "cell_type": "code",
   "execution_count": 31,
   "metadata": {},
   "outputs": [
    {
     "name": "stdout",
     "output_type": "stream",
     "text": [
      "['Emel', 23, 'AI & ML Engineer', True, 12000.48, 'Menekşe', 'Zeynep', 'Yağmur']\n",
      "['Emel', 23, 'AI & ML Engineer', True, 12000.48, 'Menekşe', 'Zeynep', 'Yağmur', 1]\n"
     ]
    }
   ],
   "source": [
    "my_list = [\"Emel\", 23, \"AI & ML Engineer\", True, 12000.48, \"Menekşe\", \"Zeynep\", \"Yağmur\"]\n",
    "print(my_list)\n",
    "\n",
    "my_list.extend([1]) # bir eleman da ekleyebiliriz\n",
    "print(my_list)"
   ]
  },
  {
   "cell_type": "code",
   "execution_count": 35,
   "metadata": {},
   "outputs": [
    {
     "name": "stdout",
     "output_type": "stream",
     "text": [
      "['Emel', 23, 'AI & ML Engineer', True, 12000.48, 'Menekşe', 'Zeynep', 'Yağmur']\n",
      "['Emel', 23, 'AI & ML Engineer', True, 12000.48, 'Menekşe', 'Zeynep', 'Yağmur', 1, 2, 3, 4]\n"
     ]
    }
   ],
   "source": [
    "my_list = [\"Emel\", 23, \"AI & ML Engineer\", True, 12000.48, \"Menekşe\", \"Zeynep\", \"Yağmur\"]\n",
    "print(my_list)\n",
    "\n",
    "my_list.extend([1, 2, 3, 4]) # birden fazla eleman da ekleyebiliriz. append ile farkı ı\n",
    "print(my_list)"
   ]
  },
  {
   "cell_type": "code",
   "execution_count": 36,
   "metadata": {},
   "outputs": [
    {
     "name": "stdout",
     "output_type": "stream",
     "text": [
      "['Emel', 23, 'AI & ML Engineer', True, 12000.48, 'Menekşe', 'Zeynep', 'Yağmur']\n",
      "['Emel', 23, 'AI & ML Engineer', True, 12000.48, 'Menekşe', 'Zeynep', 'Yağmur', [1, 2, 3, 4]]\n"
     ]
    }
   ],
   "source": [
    "my_list = [\"Emel\", 23, \"AI & ML Engineer\", True, 12000.48, \"Menekşe\", \"Zeynep\", \"Yağmur\"]\n",
    "print(my_list)\n",
    "\n",
    "my_list.append([1, 2, 3, 4]) # [1, 2, 3, 4] bir eleman olarak ekledi append ile\n",
    "print(my_list)"
   ]
  },
  {
   "cell_type": "code",
   "execution_count": 37,
   "metadata": {},
   "outputs": [
    {
     "name": "stdout",
     "output_type": "stream",
     "text": [
      "['Emel', 23, 'AI & ML Engineer', True, 12000.48, 'Menekşe', 'Zeynep', 'Yağmur']\n",
      "['Emel', 23, 'AI & ML Engineer', True, 12000.48, 'Menekşe', 'Zeynep', 'Yağmur', 1, 2, 3, 4, [5, 6, 7]]\n"
     ]
    }
   ],
   "source": [
    "my_list = [\"Emel\", 23, \"AI & ML Engineer\", True, 12000.48, \"Menekşe\", \"Zeynep\", \"Yağmur\"]\n",
    "print(my_list)\n",
    "\n",
    "my_list.extend([1, 2, 3, 4, [5, 6, 7]]) \n",
    "print(my_list)"
   ]
  },
  {
   "cell_type": "markdown",
   "metadata": {},
   "source": [
    "Liste elemanları üzerinde değişiklik"
   ]
  },
  {
   "cell_type": "code",
   "execution_count": 42,
   "metadata": {},
   "outputs": [
    {
     "name": "stdout",
     "output_type": "stream",
     "text": [
      "Önceki Hali:  [2, 3, 5, 8, 9, 6]\n",
      "Sonraki Hali:  [78, 3, 5, 8, 9, 6]\n"
     ]
    }
   ],
   "source": [
    "my_list = [2, 3, 5, 8, 9, 6]\n",
    "print(\"Önceki Hali: \", my_list)\n",
    "\n",
    "my_list[0] = 78\n",
    "print(\"Sonraki Hali: \", my_list)"
   ]
  },
  {
   "cell_type": "code",
   "execution_count": 43,
   "metadata": {},
   "outputs": [
    {
     "name": "stdout",
     "output_type": "stream",
     "text": [
      "Önceki Hali:  [78, 3, 5, 8, 9, 6]\n",
      "Sonraki Hali:  [78, 11, 14, 15, 9, 6]\n"
     ]
    }
   ],
   "source": [
    "print(\"Önceki Hali: \", my_list)\n",
    "\n",
    "my_list[1:4] = [11, 14, 15]\n",
    "print(\"Sonraki Hali: \", my_list)\n"
   ]
  },
  {
   "cell_type": "code",
   "execution_count": 45,
   "metadata": {},
   "outputs": [
    {
     "name": "stdout",
     "output_type": "stream",
     "text": [
      "Önceki Hali:  [2, 3, 5, 8, 9, 6]\n",
      "Sonraki Hali:  [3, 4, 6, 9, 10, 7]\n"
     ]
    }
   ],
   "source": [
    "# listenin tüm elemanlarına 1 eklenmesi\n",
    "\n",
    "my_list = [2, 3, 5, 8, 9, 6]\n",
    "print(\"Önceki Hali: \", my_list)\n",
    "\n",
    "for i in range(0, len(my_list)):\n",
    "    my_list[i] += 1\n",
    "\n",
    "print(\"Sonraki Hali: \", my_list)"
   ]
  },
  {
   "cell_type": "markdown",
   "metadata": {},
   "source": [
    "Listeden eleman silme\n",
    "\n",
    "* remove()\n",
    "* pop()\n",
    "* clear()\n",
    "* del()"
   ]
  },
  {
   "cell_type": "code",
   "execution_count": 48,
   "metadata": {},
   "outputs": [],
   "source": [
    "my_list = [0, 1, 2, 3, 4, 1, 5, 6, 7, 8, 1, 9, 10, 11, 2, 12, 13]"
   ]
  },
  {
   "cell_type": "markdown",
   "metadata": {},
   "source": [
    "remove() -> listeden istenen ilk elemanı silinir"
   ]
  },
  {
   "cell_type": "code",
   "execution_count": 50,
   "metadata": {},
   "outputs": [
    {
     "name": "stdout",
     "output_type": "stream",
     "text": [
      "Önceki Hali:  [0, 2, 3, 4, 1, 5, 6, 7, 8, 1, 9, 10, 11, 2, 12, 13]\n",
      "Sonraki Hali:  [0, 2, 3, 4, 5, 6, 7, 8, 1, 9, 10, 11, 2, 12, 13]\n"
     ]
    }
   ],
   "source": [
    "print(\"Önceki Hali: \", my_list)\n",
    "\n",
    "my_list.remove(1)\n",
    "print(\"Sonraki Hali: \", my_list)"
   ]
  },
  {
   "cell_type": "markdown",
   "metadata": {},
   "source": [
    "Listede olmayan bir elemanın silinmesi"
   ]
  },
  {
   "cell_type": "code",
   "execution_count": 51,
   "metadata": {},
   "outputs": [
    {
     "name": "stdout",
     "output_type": "stream",
     "text": [
      "Önceki Hali:  [0, 2, 3, 4, 5, 6, 7, 8, 1, 9, 10, 11, 2, 12, 13]\n"
     ]
    },
    {
     "ename": "ValueError",
     "evalue": "list.remove(x): x not in list",
     "output_type": "error",
     "traceback": [
      "\u001b[1;31m---------------------------------------------------------------------------\u001b[0m",
      "\u001b[1;31mValueError\u001b[0m                                Traceback (most recent call last)",
      "Cell \u001b[1;32mIn [51], line 3\u001b[0m\n\u001b[0;32m      1\u001b[0m \u001b[39mprint\u001b[39m(\u001b[39m\"\u001b[39m\u001b[39mÖnceki Hali: \u001b[39m\u001b[39m\"\u001b[39m, my_list)\n\u001b[1;32m----> 3\u001b[0m my_list\u001b[39m.\u001b[39mremove(\u001b[39m100\u001b[39m)\n\u001b[0;32m      5\u001b[0m \u001b[39mprint\u001b[39m(\u001b[39m\"\u001b[39m\u001b[39mSonraki Hali: \u001b[39m\u001b[39m\"\u001b[39m, my_list)\n",
      "\u001b[1;31mValueError\u001b[0m: list.remove(x): x not in list"
     ]
    }
   ],
   "source": [
    "print(\"Önceki Hali: \", my_list)\n",
    "\n",
    "my_list.remove(100)\n",
    "\n",
    "print(\"Sonraki Hali: \", my_list)"
   ]
  },
  {
   "cell_type": "code",
   "execution_count": 70,
   "metadata": {},
   "outputs": [
    {
     "name": "stdout",
     "output_type": "stream",
     "text": [
      "['Büşra', 'İrem', 'Zeynep', 'Betül', 'İrem']\n"
     ]
    }
   ],
   "source": [
    "my_list = [\"Büşra\", \"Öykü\", \"İrem\", \"Zeynep\", \"Betül\", \"İrem\", \"Öykü\", \"Öykü\"]\n",
    "\n",
    "while \"Öykü\" in my_list:\n",
    "    # my_list.pop(my_list.index(\"Öykü\")) # indexi bulunup silinir\n",
    "    my_list.remove(\"Öykü\") # direkt öyküyü bulup siler\n",
    "\n",
    "print(my_list)"
   ]
  },
  {
   "cell_type": "markdown",
   "metadata": {},
   "source": [
    "pop() -> Herhangi bir index verilmezse listenin son elemanı silinir. index verilirse de ilgili indexteki eleman silinir."
   ]
  },
  {
   "cell_type": "code",
   "execution_count": 53,
   "metadata": {},
   "outputs": [
    {
     "name": "stdout",
     "output_type": "stream",
     "text": [
      "Önceki Hali:  ['Büşra', 'Öykü', 'İrem', 'Zeynep', 'Betül', 'İrem', 'Öykü', 'Öykü']\n",
      "İkinci Hali:  ['Büşra', 'Öykü', 'İrem', 'Zeynep', 'Betül', 'İrem', 'Öykü']\n",
      "Sonraki Hali:  ['Büşra', 'Öykü', 'Zeynep', 'Betül', 'İrem', 'Öykü']\n"
     ]
    }
   ],
   "source": [
    "my_list = [\"Büşra\", \"Öykü\", \"İrem\", \"Zeynep\", \"Betül\", \"İrem\", \"Öykü\", \"Öykü\"]\n",
    "print(\"Önceki Hali: \", my_list)\n",
    "\n",
    "my_list.pop()\n",
    "print(\"İkinci Hali: \", my_list)\n",
    "my_list.pop(2)\n",
    "\n",
    "print(\"Sonraki Hali: \", my_list)"
   ]
  },
  {
   "cell_type": "markdown",
   "metadata": {},
   "source": [
    "del() -> listeyi tamamen siler"
   ]
  },
  {
   "cell_type": "code",
   "execution_count": 56,
   "metadata": {},
   "outputs": [
    {
     "name": "stdout",
     "output_type": "stream",
     "text": [
      "['Büşra', 'Öykü', 'İrem', 'Zeynep', 'Betül', 'İrem', 'Öykü', 'Öykü']\n",
      "['Büşra', 'Zeynep', 'Betül', 'İrem', 'Öykü', 'Öykü']\n"
     ]
    },
    {
     "ename": "NameError",
     "evalue": "name 'my_list' is not defined",
     "output_type": "error",
     "traceback": [
      "\u001b[1;31m---------------------------------------------------------------------------\u001b[0m",
      "\u001b[1;31mNameError\u001b[0m                                 Traceback (most recent call last)",
      "Cell \u001b[1;32mIn [56], line 8\u001b[0m\n\u001b[0;32m      5\u001b[0m \u001b[39mprint\u001b[39m(my_list)\n\u001b[0;32m      7\u001b[0m \u001b[39mdel\u001b[39;00m my_list \u001b[39m# listeyi tamamen siler\u001b[39;00m\n\u001b[1;32m----> 8\u001b[0m \u001b[39mprint\u001b[39m(my_list)\n",
      "\u001b[1;31mNameError\u001b[0m: name 'my_list' is not defined"
     ]
    }
   ],
   "source": [
    "my_list = [\"Büşra\", \"Öykü\", \"İrem\", \"Zeynep\", \"Betül\", \"İrem\", \"Öykü\", \"Öykü\"]\n",
    "print(my_list)\n",
    "\n",
    "del my_list[1:3] # belirtilen aralıktaki değerleri siler\n",
    "print(my_list)\n",
    "\n",
    "del my_list # listeyi tamamen siler\n",
    "print(my_list)"
   ]
  },
  {
   "cell_type": "markdown",
   "metadata": {},
   "source": [
    "clear() -> liste içerisindeki tüm elemanları siler. Çıktı olarak da boş liste döner."
   ]
  },
  {
   "cell_type": "code",
   "execution_count": 57,
   "metadata": {},
   "outputs": [
    {
     "name": "stdout",
     "output_type": "stream",
     "text": [
      "['Büşra', 'Öykü', 'İrem', 'Zeynep', 'Betül', 'İrem', 'Öykü', 'Öykü']\n",
      "[]\n"
     ]
    }
   ],
   "source": [
    "my_list = [\"Büşra\", \"Öykü\", \"İrem\", \"Zeynep\", \"Betül\", \"İrem\", \"Öykü\", \"Öykü\"]\n",
    "print(my_list)\n",
    "\n",
    "my_list.clear()\n",
    "print(my_list)"
   ]
  },
  {
   "cell_type": "markdown",
   "metadata": {},
   "source": [
    "Bir liste içerisinde eleman bulma"
   ]
  },
  {
   "cell_type": "markdown",
   "metadata": {},
   "source": [
    "index()"
   ]
  },
  {
   "cell_type": "code",
   "execution_count": 60,
   "metadata": {},
   "outputs": [
    {
     "name": "stdout",
     "output_type": "stream",
     "text": [
      "2\n"
     ]
    }
   ],
   "source": [
    "movies = [\"Friends\", \"The Office\", \"The Big Bang Theory\", \"Breaking Bad\", \"How I Met Your Mother\", \"Heartland\"]\n",
    "\n",
    "print(movies.index(\"The Big Bang Theory\"))"
   ]
  },
  {
   "cell_type": "code",
   "execution_count": 61,
   "metadata": {},
   "outputs": [
    {
     "ename": "ValueError",
     "evalue": "'Big Bang Theory' is not in list",
     "output_type": "error",
     "traceback": [
      "\u001b[1;31m---------------------------------------------------------------------------\u001b[0m",
      "\u001b[1;31mValueError\u001b[0m                                Traceback (most recent call last)",
      "Cell \u001b[1;32mIn [61], line 1\u001b[0m\n\u001b[1;32m----> 1\u001b[0m \u001b[39mprint\u001b[39m(movies\u001b[39m.\u001b[39mindex(\u001b[39m\"\u001b[39m\u001b[39mBig Bang Theory\u001b[39m\u001b[39m\"\u001b[39m))\n",
      "\u001b[1;31mValueError\u001b[0m: 'Big Bang Theory' is not in list"
     ]
    }
   ],
   "source": [
    "print(movies.index(\"Big Bang Theory\"))"
   ]
  },
  {
   "cell_type": "markdown",
   "metadata": {},
   "source": [
    "İki listeyi concat etme (birleştirme)\n",
    "\n",
    "* **+** operatörü ile \n",
    "* extend() metodu ile"
   ]
  },
  {
   "cell_type": "code",
   "execution_count": 63,
   "metadata": {},
   "outputs": [
    {
     "name": "stdout",
     "output_type": "stream",
     "text": [
      "[1, 2, 3, 4, 5, 6]\n"
     ]
    }
   ],
   "source": [
    "my_list1 = [1, 2, 3]\n",
    "my_list2 = [4, 5, 6]\n",
    "\n",
    "my_list3 = my_list1 + my_list2\n",
    "\n",
    "print(my_list3)"
   ]
  },
  {
   "cell_type": "code",
   "execution_count": 65,
   "metadata": {},
   "outputs": [
    {
     "name": "stdout",
     "output_type": "stream",
     "text": [
      "[1, 2, 3, 4, 5, 6]\n"
     ]
    }
   ],
   "source": [
    "my_list1 = [1, 2, 3]\n",
    "my_list2 = [4, 5, 6]\n",
    "\n",
    "my_list1.extend(my_list2)\n",
    "print(my_list1)"
   ]
  },
  {
   "cell_type": "markdown",
   "metadata": {},
   "source": [
    "Bir Listenin Kopyalanması"
   ]
  },
  {
   "cell_type": "markdown",
   "metadata": {},
   "source": [
    "= atama operatörü ile"
   ]
  },
  {
   "cell_type": "code",
   "execution_count": 76,
   "metadata": {},
   "outputs": [
    {
     "name": "stdout",
     "output_type": "stream",
     "text": [
      "[1, 2, 3]\n"
     ]
    }
   ],
   "source": [
    "my_list = [1, 2, 3]\n",
    "\n",
    "new_list = my_list\n",
    "\n",
    "print(new_list)"
   ]
  },
  {
   "cell_type": "code",
   "execution_count": 77,
   "metadata": {},
   "outputs": [
    {
     "name": "stdout",
     "output_type": "stream",
     "text": [
      "[1, 2, 3, 4]\n"
     ]
    }
   ],
   "source": [
    "my_list = [1, 2, 3]\n",
    "\n",
    "new_list = my_list\n",
    "\n",
    "my_list.append(4) # = operatörü ile yaptığımızda eklediğimiz 4 değeri new_list'i etkiledi.\n",
    "\n",
    "print(new_list)"
   ]
  },
  {
   "cell_type": "markdown",
   "metadata": {},
   "source": [
    "copy()"
   ]
  },
  {
   "cell_type": "code",
   "execution_count": 78,
   "metadata": {},
   "outputs": [
    {
     "name": "stdout",
     "output_type": "stream",
     "text": [
      "[1, 2, 3]\n"
     ]
    }
   ],
   "source": [
    "my_list = [1, 2, 3]\n",
    "\n",
    "new_list = my_list.copy()\n",
    "\n",
    "my_list.append(4) # copy ile yaptığımızda eklediğimiz 4 değeri new_list'i etkilemedi.\n",
    "\n",
    "print(new_list)"
   ]
  },
  {
   "cell_type": "markdown",
   "metadata": {},
   "source": [
    "* sort\n",
    "* reverse\n",
    "* max, min\n",
    "* sum"
   ]
  },
  {
   "cell_type": "code",
   "execution_count": 89,
   "metadata": {},
   "outputs": [
    {
     "name": "stdout",
     "output_type": "stream",
     "text": [
      "Listenin ilk hal:  [1, 6, 3, 8, 0]\n",
      "Listenin sıralanmış hal:  [0, 1, 3, 6, 8]\n",
      "Listenin tersten sıralanmış hal:  [8, 6, 3, 1, 0]\n",
      "Listenin max. elemanı:  8\n",
      "Listenin min. elemanı:  0\n",
      "Listenin elemanlarının toplamı:  18\n"
     ]
    }
   ],
   "source": [
    "my_list = [1, 6, 3, 8, 0]\n",
    "print(\"Listenin ilk hal: \", my_list)\n",
    "\n",
    "my_list.sort()\n",
    "print(\"Listenin sıralanmış hal: \", my_list)\n",
    "\n",
    "my_list.reverse()\n",
    "print(\"Listenin tersten sıralanmış hal: \", my_list)\n",
    "\n",
    "print(\"Listenin max. elemanı: \", max(my_list))\n",
    "print(\"Listenin min. elemanı: \", min(my_list))\n",
    "print(\"Listenin elemanlarının toplamı: \", sum(my_list))\n",
    "\n"
   ]
  },
  {
   "cell_type": "markdown",
   "metadata": {},
   "source": [
    "İç içe listeler"
   ]
  },
  {
   "cell_type": "code",
   "execution_count": 95,
   "metadata": {},
   "outputs": [
    {
     "name": "stdout",
     "output_type": "stream",
     "text": [
      "['Software Developer', 'Android Dev.', 'AI & ML Engineer']\n",
      "Software Developer\n"
     ]
    }
   ],
   "source": [
    "my_list = [\"Büşra Eşkara\", 2015, [\"Software Developer\", \"Android Dev.\", \"AI & ML Engineer\"], 7, 3467]\n",
    "\n",
    "print(my_list[2])\n",
    "print(my_list[2][0])"
   ]
  },
  {
   "cell_type": "code",
   "execution_count": 94,
   "metadata": {},
   "outputs": [
    {
     "name": "stdout",
     "output_type": "stream",
     "text": [
      "[4, 16, 36, 64, 100, 0]\n"
     ]
    }
   ],
   "source": [
    "# bu listedeki çift sayıların karelerinden yeni bir liste oluşturalım \n",
    "\n",
    "my_list = [1, 2, 3, 4, 5, 6, 7, 8, 9, 10, 0]\n",
    "\n",
    "new_list = []\n",
    "\n",
    "for item in my_list:\n",
    "    if item % 2 ==0:\n",
    "        new_list.append(item**2)\n",
    "\n",
    "print(new_list)"
   ]
  },
  {
   "cell_type": "code",
   "execution_count": 96,
   "metadata": {},
   "outputs": [
    {
     "name": "stdout",
     "output_type": "stream",
     "text": [
      "['Büşra Eşkara', 2015, ['Software Developer', 'Android Dev.', 'AI & ML Engineer', 'Eğitmen'], 7, 3467]\n"
     ]
    }
   ],
   "source": [
    "# eğitmen title değerini 2. indexe ekleyelim\n",
    "\n",
    "my_list = [\"Büşra Eşkara\", 2015, [\"Software Developer\", \"Android Dev.\", \"AI & ML Engineer\"], 7, 3467]\n",
    "\n",
    "my_list[2].append(\"Eğitmen\")\n",
    "print(my_list)"
   ]
  },
  {
   "cell_type": "code",
   "execution_count": 98,
   "metadata": {},
   "outputs": [
    {
     "name": "stdout",
     "output_type": "stream",
     "text": [
      "[10, 20, 30, 40, 50]\n"
     ]
    }
   ],
   "source": [
    "# Duplicate verileri temizleyerek yeni bir liste oluşturalım\n",
    "\n",
    "my_list = [10, 10, 20, 30, 10, 40, 50]\n",
    "uniqe_list = []\n",
    "\n",
    "for i in my_list:\n",
    "    if i not in uniqe_list: # not in: bu listenin içerisinde bu işlem yoksa bu işi yap anlamına geliyor.\n",
    "        uniqe_list.append(i)\n",
    "\n",
    "print(uniqe_list)"
   ]
  },
  {
   "cell_type": "code",
   "execution_count": 99,
   "metadata": {},
   "outputs": [
    {
     "name": "stdout",
     "output_type": "stream",
     "text": [
      "10\n"
     ]
    }
   ],
   "source": [
    "# Liste içerisinde en büyük elemanı bulma (max metodu kullanmadan)\n",
    "\n",
    "my_list = [1, 2, 3, 9, 4, 5, 6, 7, 8, 9, 10, 0]\n",
    "\n",
    "temp = 0\n",
    "\n",
    "for item in my_list:\n",
    "    if item > temp:\n",
    "        temp = item \n",
    "\n",
    "print(temp)\n"
   ]
  },
  {
   "cell_type": "code",
   "execution_count": null,
   "metadata": {},
   "outputs": [],
   "source": [
    "# text içerisinde yer alan kelmielerden altıdan büyük eşit olanları aynı bir listeye atalım.\n",
    "\n",
    "\n",
    "\n"
   ]
  }
 ],
 "metadata": {
  "kernelspec": {
   "display_name": "Python 3.9.6 64-bit",
   "language": "python",
   "name": "python3"
  },
  "language_info": {
   "codemirror_mode": {
    "name": "ipython",
    "version": 3
   },
   "file_extension": ".py",
   "mimetype": "text/x-python",
   "name": "python",
   "nbconvert_exporter": "python",
   "pygments_lexer": "ipython3",
   "version": "3.9.6"
  },
  "orig_nbformat": 4,
  "vscode": {
   "interpreter": {
    "hash": "f6246b25e200e4c5124e3e61789ac81350562f0761bbcf92ad9e48654207659c"
   }
  }
 },
 "nbformat": 4,
 "nbformat_minor": 2
}
